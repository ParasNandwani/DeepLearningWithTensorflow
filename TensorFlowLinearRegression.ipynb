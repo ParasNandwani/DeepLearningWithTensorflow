{
  "nbformat": 4,
  "nbformat_minor": 0,
  "metadata": {
    "colab": {
      "name": "TensorFlowLinearRegression.ipynb",
      "provenance": [],
      "collapsed_sections": [],
      "authorship_tag": "ABX9TyPnODM+XdgZ1naXdk/And6g",
      "include_colab_link": true
    },
    "kernelspec": {
      "name": "python3",
      "display_name": "Python 3"
    }
  },
  "cells": [
    {
      "cell_type": "markdown",
      "metadata": {
        "id": "view-in-github",
        "colab_type": "text"
      },
      "source": [
        "<a href=\"https://colab.research.google.com/github/ParasNandwani/DeepLearningWithTensorflow/blob/master/TensorFlowLinearRegression.ipynb\" target=\"_parent\"><img src=\"https://colab.research.google.com/assets/colab-badge.svg\" alt=\"Open In Colab\"/></a>"
      ]
    },
    {
      "cell_type": "code",
      "metadata": {
        "id": "-fqJycy3rhQn",
        "colab_type": "code",
        "colab": {}
      },
      "source": [
        "import pandas as pd\n",
        "import numpy as np\n",
        "import matplotlib.pyplot as plt\n",
        "import tensorflow as tf"
      ],
      "execution_count": 11,
      "outputs": []
    },
    {
      "cell_type": "code",
      "metadata": {
        "id": "KH3YmRMPseD4",
        "colab_type": "code",
        "colab": {
          "base_uri": "https://localhost:8080/",
          "height": 204
        },
        "outputId": "6a061110-2f2e-45e5-b0e1-1e8f947acffc"
      },
      "source": [
        "#Loading data\n",
        "!wget https://raw.githubusercontent.com/lazyprogrammer/machine_learning_examples/master/tf2.0/moore.csv"
      ],
      "execution_count": 2,
      "outputs": [
        {
          "output_type": "stream",
          "text": [
            "--2020-07-09 07:45:50--  https://raw.githubusercontent.com/lazyprogrammer/machine_learning_examples/master/tf2.0/moore.csv\n",
            "Resolving raw.githubusercontent.com (raw.githubusercontent.com)... 151.101.0.133, 151.101.64.133, 151.101.128.133, ...\n",
            "Connecting to raw.githubusercontent.com (raw.githubusercontent.com)|151.101.0.133|:443... connected.\n",
            "HTTP request sent, awaiting response... 200 OK\n",
            "Length: 2302 (2.2K) [text/plain]\n",
            "Saving to: ‘moore.csv’\n",
            "\n",
            "\rmoore.csv             0%[                    ]       0  --.-KB/s               \rmoore.csv           100%[===================>]   2.25K  --.-KB/s    in 0s      \n",
            "\n",
            "2020-07-09 07:45:51 (36.3 MB/s) - ‘moore.csv’ saved [2302/2302]\n",
            "\n"
          ],
          "name": "stdout"
        }
      ]
    },
    {
      "cell_type": "code",
      "metadata": {
        "id": "AGVmQ1k8sjUk",
        "colab_type": "code",
        "colab": {
          "base_uri": "https://localhost:8080/",
          "height": 1000
        },
        "outputId": "19d1388a-ca47-4578-8149-fbd65a57686d"
      },
      "source": [
        "#load data\n",
        "data=pd.read_csv('moore.csv',header=None).values\n",
        "data"
      ],
      "execution_count": 3,
      "outputs": [
        {
          "output_type": "execute_result",
          "data": {
            "text/plain": [
              "array([[       1971,        2300],\n",
              "       [       1972,        3500],\n",
              "       [       1973,        2500],\n",
              "       [       1973,        2500],\n",
              "       [       1974,        4100],\n",
              "       [       1974,        4500],\n",
              "       [       1974,        8000],\n",
              "       [       1975,        3510],\n",
              "       [       1976,        5000],\n",
              "       [       1976,        8500],\n",
              "       [       1976,        6500],\n",
              "       [       1978,        9000],\n",
              "       [       1978,       29000],\n",
              "       [       1979,       17500],\n",
              "       [       1979,       29000],\n",
              "       [       1979,       68000],\n",
              "       [       1981,       11500],\n",
              "       [       1982,       55000],\n",
              "       [       1982,      134000],\n",
              "       [       1983,       22000],\n",
              "       [       1984,       63000],\n",
              "       [       1984,      190000],\n",
              "       [       1985,      275000],\n",
              "       [       1985,       25000],\n",
              "       [       1985,       16000],\n",
              "       [       1986,      110000],\n",
              "       [       1986,      375000],\n",
              "       [       1986,       30000],\n",
              "       [       1987,      385000],\n",
              "       [       1987,      730000],\n",
              "       [       1987,      273000],\n",
              "       [       1987,      553000],\n",
              "       [       1988,      180000],\n",
              "       [       1988,      250000],\n",
              "       [       1989,      600000],\n",
              "       [       1989,     1000000],\n",
              "       [       1989,     1180235],\n",
              "       [       1989,      310000],\n",
              "       [       1990,     1200000],\n",
              "       [       1991,     1350000],\n",
              "       [       1991,       35000],\n",
              "       [       1992,      600000],\n",
              "       [       1992,      900000],\n",
              "       [       1993,     2800000],\n",
              "       [       1993,     3100000],\n",
              "       [       1994,      578977],\n",
              "       [       1994,     2500000],\n",
              "       [       1995,     2500000],\n",
              "       [       1999,      111000],\n",
              "       [       1995,     5500000],\n",
              "       [       1996,     4300000],\n",
              "       [       1997,    10000000],\n",
              "       [       1997,     7500000],\n",
              "       [       1997,     8800000],\n",
              "       [       1998,     7500000],\n",
              "       [       1999,     9500000],\n",
              "       [       1999,    13500000],\n",
              "       [       2000,    21000000],\n",
              "       [       2000,    21000000],\n",
              "       [       1999,    27400000],\n",
              "       [       1999,    21300000],\n",
              "       [       1999,    22000000],\n",
              "       [       2000,    42000000],\n",
              "       [       2001,   191000000],\n",
              "       [       2001,    45000000],\n",
              "       [       2002,    55000000],\n",
              "       [       2004,   112000000],\n",
              "       [       2004,   400000000],\n",
              "       [       2005,   169000000],\n",
              "       [       2006,   184000000],\n",
              "       [       2005,   228000000],\n",
              "       [       2006,   362000000],\n",
              "       [       2007,   540000000],\n",
              "       [       2008,    47000000],\n",
              "       [       2003,    54300000],\n",
              "       [       2003,   105900000],\n",
              "       [       2002,   220000000],\n",
              "       [       2005,   165000000],\n",
              "       [       2005,   250000000],\n",
              "       [       2006,   291000000],\n",
              "       [       2007,   169000000],\n",
              "       [       2003,   410000000],\n",
              "       [       2008,   600000000],\n",
              "       [       2009,   760000000],\n",
              "       [       2011,  1870000000],\n",
              "       [       2012,   432000000],\n",
              "       [       2007,   463000000],\n",
              "       [       2007,    26000000],\n",
              "       [       2008,   230000000],\n",
              "       [       2004,   592000000],\n",
              "       [       2007,   411000000],\n",
              "       [       2008,   731000000],\n",
              "       [       2008,   758000000],\n",
              "       [       2007,   789000000],\n",
              "       [       2009,   904000000],\n",
              "       [       2010,  1000000000],\n",
              "       [       2012,  2990000000],\n",
              "       [       2013,  1000000000],\n",
              "       [       2011,  1160000000],\n",
              "       [       2010,  1170000000],\n",
              "       [       2010,  1200000000],\n",
              "       [       2012,  1200000000],\n",
              "       [       2012,  1303000000],\n",
              "       [       2010,  1400000000],\n",
              "       [       2012,  1400000000],\n",
              "       [       2014,  1400000000],\n",
              "       [       2006,  1700000000],\n",
              "       [       2015,  1750000000],\n",
              "       [       2013,  1860000000],\n",
              "       [       2015,  1900000000],\n",
              "       [       2008,  1900000000],\n",
              "       [       2010,  2000000000],\n",
              "       [       2014,  2000000000],\n",
              "       [       2015,  2000000000],\n",
              "       [       2015,  3000000000],\n",
              "       [       2012,  2100000000],\n",
              "       [       2011,  2270000000],\n",
              "       [       2010,  2300000000],\n",
              "       [       2014,  2600000000],\n",
              "       [       2011,  2600000000],\n",
              "       [       2012,  2750000000],\n",
              "       [       2014,  3000000000],\n",
              "       [       2016,  3000000000],\n",
              "       [       2017,  5300000000],\n",
              "       [       2017,  5300000000],\n",
              "       [       2018,  8500000000],\n",
              "       [       2012,  3100000000],\n",
              "       [       2016,  3200000000],\n",
              "       [       2016,  3300000000],\n",
              "       [       2015,  3990000000],\n",
              "       [       2013,  4200000000],\n",
              "       [       2017,  4300000000],\n",
              "       [       2014,  4310000000],\n",
              "       [       2017,  4800000000],\n",
              "       [       2017,  4800000000],\n",
              "       [       2017,  4800000000],\n",
              "       [       2012,  5000000000],\n",
              "       [       2013,  5000000000],\n",
              "       [       2014,  5560000000],\n",
              "       [       2017,  6100000000],\n",
              "       [       2018,  6900000000],\n",
              "       [       2016,  4000000000],\n",
              "       [       2018,  6900000000],\n",
              "       [       2017,  5500000000],\n",
              "       [       2018,  5500000000],\n",
              "       [       2017,  7000000000],\n",
              "       [       2015,  7100000000],\n",
              "       [       2017,  8000000000],\n",
              "       [       2016,  7200000000],\n",
              "       [       2017,  8000000000],\n",
              "       [       2016,  8000000000],\n",
              "       [       2017,  9700000000],\n",
              "       [       2017,   250000000],\n",
              "       [       2015, 10000000000],\n",
              "       [       2017,  5450000000],\n",
              "       [       2018, 10000000000],\n",
              "       [       2017,  4300000000],\n",
              "       [       2017, 18000000000],\n",
              "       [       2017, 19200000000],\n",
              "       [       2018,  8876000000],\n",
              "       [       2018, 23600000000],\n",
              "       [       2018,  9000000000]])"
            ]
          },
          "metadata": {
            "tags": []
          },
          "execution_count": 3
        }
      ]
    },
    {
      "cell_type": "code",
      "metadata": {
        "id": "6P463VM0tIVs",
        "colab_type": "code",
        "colab": {
          "base_uri": "https://localhost:8080/",
          "height": 578
        },
        "outputId": "3ef1fa76-fc83-409d-b863-a95b70875be2"
      },
      "source": [
        "X=data[:,0].reshape(-1,1)\n",
        "X\n",
        "Y=data[:,1]\n",
        "Y"
      ],
      "execution_count": 4,
      "outputs": [
        {
          "output_type": "execute_result",
          "data": {
            "text/plain": [
              "array([       2300,        3500,        2500,        2500,        4100,\n",
              "              4500,        8000,        3510,        5000,        8500,\n",
              "              6500,        9000,       29000,       17500,       29000,\n",
              "             68000,       11500,       55000,      134000,       22000,\n",
              "             63000,      190000,      275000,       25000,       16000,\n",
              "            110000,      375000,       30000,      385000,      730000,\n",
              "            273000,      553000,      180000,      250000,      600000,\n",
              "           1000000,     1180235,      310000,     1200000,     1350000,\n",
              "             35000,      600000,      900000,     2800000,     3100000,\n",
              "            578977,     2500000,     2500000,      111000,     5500000,\n",
              "           4300000,    10000000,     7500000,     8800000,     7500000,\n",
              "           9500000,    13500000,    21000000,    21000000,    27400000,\n",
              "          21300000,    22000000,    42000000,   191000000,    45000000,\n",
              "          55000000,   112000000,   400000000,   169000000,   184000000,\n",
              "         228000000,   362000000,   540000000,    47000000,    54300000,\n",
              "         105900000,   220000000,   165000000,   250000000,   291000000,\n",
              "         169000000,   410000000,   600000000,   760000000,  1870000000,\n",
              "         432000000,   463000000,    26000000,   230000000,   592000000,\n",
              "         411000000,   731000000,   758000000,   789000000,   904000000,\n",
              "        1000000000,  2990000000,  1000000000,  1160000000,  1170000000,\n",
              "        1200000000,  1200000000,  1303000000,  1400000000,  1400000000,\n",
              "        1400000000,  1700000000,  1750000000,  1860000000,  1900000000,\n",
              "        1900000000,  2000000000,  2000000000,  2000000000,  3000000000,\n",
              "        2100000000,  2270000000,  2300000000,  2600000000,  2600000000,\n",
              "        2750000000,  3000000000,  3000000000,  5300000000,  5300000000,\n",
              "        8500000000,  3100000000,  3200000000,  3300000000,  3990000000,\n",
              "        4200000000,  4300000000,  4310000000,  4800000000,  4800000000,\n",
              "        4800000000,  5000000000,  5000000000,  5560000000,  6100000000,\n",
              "        6900000000,  4000000000,  6900000000,  5500000000,  5500000000,\n",
              "        7000000000,  7100000000,  8000000000,  7200000000,  8000000000,\n",
              "        8000000000,  9700000000,   250000000, 10000000000,  5450000000,\n",
              "       10000000000,  4300000000, 18000000000, 19200000000,  8876000000,\n",
              "       23600000000,  9000000000])"
            ]
          },
          "metadata": {
            "tags": []
          },
          "execution_count": 4
        }
      ]
    },
    {
      "cell_type": "code",
      "metadata": {
        "id": "xRF8A7OvtqIV",
        "colab_type": "code",
        "colab": {
          "base_uri": "https://localhost:8080/",
          "height": 293
        },
        "outputId": "505b4fcf-6f0b-4030-d0b1-d3cc39334e09"
      },
      "source": [
        "plt.scatter(X,Y)"
      ],
      "execution_count": 5,
      "outputs": [
        {
          "output_type": "execute_result",
          "data": {
            "text/plain": [
              "<matplotlib.collections.PathCollection at 0x7f7c55f83898>"
            ]
          },
          "metadata": {
            "tags": []
          },
          "execution_count": 5
        },
        {
          "output_type": "display_data",
          "data": {
            "image/png": "[encoded data removed]",
            "text/plain": [
              "<Figure size 432x288 with 1 Axes>"
            ]
          },
          "metadata": {
            "tags": [],
            "needs_background": "light"
          }
        }
      ]
    },
    {
      "cell_type": "code",
      "metadata": {
        "id": "yzn-29tSt0hu",
        "colab_type": "code",
        "colab": {
          "base_uri": "https://localhost:8080/",
          "height": 282
        },
        "outputId": "f0a2801c-0a51-47a1-ca74-c4207187b5ea"
      },
      "source": [
        "#Since we want linear model we will log\n",
        "Y=np.log(Y)\n",
        "plt.scatter(X,Y)"
      ],
      "execution_count": 6,
      "outputs": [
        {
          "output_type": "execute_result",
          "data": {
            "text/plain": [
              "<matplotlib.collections.PathCollection at 0x7f7c55a55ba8>"
            ]
          },
          "metadata": {
            "tags": []
          },
          "execution_count": 6
        },
        {
          "output_type": "display_data",
          "data": {
            "image/png": "[encoded data removed]",
            "text/plain": [
              "<Figure size 432x288 with 1 Axes>"
            ]
          },
          "metadata": {
            "tags": [],
            "needs_background": "light"
          }
        }
      ]
    },
    {
      "cell_type": "code",
      "metadata": {
        "id": "SO5MsQdeuEtA",
        "colab_type": "code",
        "colab": {}
      },
      "source": [
        "#scalling values\n",
        "X=X-X.mean()"
      ],
      "execution_count": 7,
      "outputs": []
    },
    {
      "cell_type": "code",
      "metadata": {
        "id": "-xJGJQDmuRDa",
        "colab_type": "code",
        "colab": {
          "base_uri": "https://localhost:8080/",
          "height": 1000
        },
        "outputId": "e9914762-e64c-4b3f-a55d-45ec10fd3321"
      },
      "source": [
        "X"
      ],
      "execution_count": 8,
      "outputs": [
        {
          "output_type": "execute_result",
          "data": {
            "text/plain": [
              "array([[-31.19753086],\n",
              "       [-30.19753086],\n",
              "       [-29.19753086],\n",
              "       [-29.19753086],\n",
              "       [-28.19753086],\n",
              "       [-28.19753086],\n",
              "       [-28.19753086],\n",
              "       [-27.19753086],\n",
              "       [-26.19753086],\n",
              "       [-26.19753086],\n",
              "       [-26.19753086],\n",
              "       [-24.19753086],\n",
              "       [-24.19753086],\n",
              "       [-23.19753086],\n",
              "       [-23.19753086],\n",
              "       [-23.19753086],\n",
              "       [-21.19753086],\n",
              "       [-20.19753086],\n",
              "       [-20.19753086],\n",
              "       [-19.19753086],\n",
              "       [-18.19753086],\n",
              "       [-18.19753086],\n",
              "       [-17.19753086],\n",
              "       [-17.19753086],\n",
              "       [-17.19753086],\n",
              "       [-16.19753086],\n",
              "       [-16.19753086],\n",
              "       [-16.19753086],\n",
              "       [-15.19753086],\n",
              "       [-15.19753086],\n",
              "       [-15.19753086],\n",
              "       [-15.19753086],\n",
              "       [-14.19753086],\n",
              "       [-14.19753086],\n",
              "       [-13.19753086],\n",
              "       [-13.19753086],\n",
              "       [-13.19753086],\n",
              "       [-13.19753086],\n",
              "       [-12.19753086],\n",
              "       [-11.19753086],\n",
              "       [-11.19753086],\n",
              "       [-10.19753086],\n",
              "       [-10.19753086],\n",
              "       [ -9.19753086],\n",
              "       [ -9.19753086],\n",
              "       [ -8.19753086],\n",
              "       [ -8.19753086],\n",
              "       [ -7.19753086],\n",
              "       [ -3.19753086],\n",
              "       [ -7.19753086],\n",
              "       [ -6.19753086],\n",
              "       [ -5.19753086],\n",
              "       [ -5.19753086],\n",
              "       [ -5.19753086],\n",
              "       [ -4.19753086],\n",
              "       [ -3.19753086],\n",
              "       [ -3.19753086],\n",
              "       [ -2.19753086],\n",
              "       [ -2.19753086],\n",
              "       [ -3.19753086],\n",
              "       [ -3.19753086],\n",
              "       [ -3.19753086],\n",
              "       [ -2.19753086],\n",
              "       [ -1.19753086],\n",
              "       [ -1.19753086],\n",
              "       [ -0.19753086],\n",
              "       [  1.80246914],\n",
              "       [  1.80246914],\n",
              "       [  2.80246914],\n",
              "       [  3.80246914],\n",
              "       [  2.80246914],\n",
              "       [  3.80246914],\n",
              "       [  4.80246914],\n",
              "       [  5.80246914],\n",
              "       [  0.80246914],\n",
              "       [  0.80246914],\n",
              "       [ -0.19753086],\n",
              "       [  2.80246914],\n",
              "       [  2.80246914],\n",
              "       [  3.80246914],\n",
              "       [  4.80246914],\n",
              "       [  0.80246914],\n",
              "       [  5.80246914],\n",
              "       [  6.80246914],\n",
              "       [  8.80246914],\n",
              "       [  9.80246914],\n",
              "       [  4.80246914],\n",
              "       [  4.80246914],\n",
              "       [  5.80246914],\n",
              "       [  1.80246914],\n",
              "       [  4.80246914],\n",
              "       [  5.80246914],\n",
              "       [  5.80246914],\n",
              "       [  4.80246914],\n",
              "       [  6.80246914],\n",
              "       [  7.80246914],\n",
              "       [  9.80246914],\n",
              "       [ 10.80246914],\n",
              "       [  8.80246914],\n",
              "       [  7.80246914],\n",
              "       [  7.80246914],\n",
              "       [  9.80246914],\n",
              "       [  9.80246914],\n",
              "       [  7.80246914],\n",
              "       [  9.80246914],\n",
              "       [ 11.80246914],\n",
              "       [  3.80246914],\n",
              "       [ 12.80246914],\n",
              "       [ 10.80246914],\n",
              "       [ 12.80246914],\n",
              "       [  5.80246914],\n",
              "       [  7.80246914],\n",
              "       [ 11.80246914],\n",
              "       [ 12.80246914],\n",
              "       [ 12.80246914],\n",
              "       [  9.80246914],\n",
              "       [  8.80246914],\n",
              "       [  7.80246914],\n",
              "       [ 11.80246914],\n",
              "       [  8.80246914],\n",
              "       [  9.80246914],\n",
              "       [ 11.80246914],\n",
              "       [ 13.80246914],\n",
              "       [ 14.80246914],\n",
              "       [ 14.80246914],\n",
              "       [ 15.80246914],\n",
              "       [  9.80246914],\n",
              "       [ 13.80246914],\n",
              "       [ 13.80246914],\n",
              "       [ 12.80246914],\n",
              "       [ 10.80246914],\n",
              "       [ 14.80246914],\n",
              "       [ 11.80246914],\n",
              "       [ 14.80246914],\n",
              "       [ 14.80246914],\n",
              "       [ 14.80246914],\n",
              "       [  9.80246914],\n",
              "       [ 10.80246914],\n",
              "       [ 11.80246914],\n",
              "       [ 14.80246914],\n",
              "       [ 15.80246914],\n",
              "       [ 13.80246914],\n",
              "       [ 15.80246914],\n",
              "       [ 14.80246914],\n",
              "       [ 15.80246914],\n",
              "       [ 14.80246914],\n",
              "       [ 12.80246914],\n",
              "       [ 14.80246914],\n",
              "       [ 13.80246914],\n",
              "       [ 14.80246914],\n",
              "       [ 13.80246914],\n",
              "       [ 14.80246914],\n",
              "       [ 14.80246914],\n",
              "       [ 12.80246914],\n",
              "       [ 14.80246914],\n",
              "       [ 15.80246914],\n",
              "       [ 14.80246914],\n",
              "       [ 14.80246914],\n",
              "       [ 14.80246914],\n",
              "       [ 15.80246914],\n",
              "       [ 15.80246914],\n",
              "       [ 15.80246914]])"
            ]
          },
          "metadata": {
            "tags": []
          },
          "execution_count": 8
        }
      ]
    },
    {
      "cell_type": "code",
      "metadata": {
        "id": "KqpPYiahuS79",
        "colab_type": "code",
        "colab": {}
      },
      "source": [
        "#now create tesorflow model\n",
        "# model=tf.keras.models.Sequential(\n",
        "#       tf.keras.layers.Input(shape=(1,)),\n",
        "#       tf.keras.layers.Dense(1)\n",
        "# )\n",
        "\n",
        "# model=tf.keras.models.Sequential(\n",
        "#       tf.keras.layers.Input(shape=(1,)),\n",
        "#       tf.keras.layers.Dense(1)\n",
        "# )\n",
        "\n",
        "model=tf.keras.models.Sequential()\n",
        "model.add(tf.keras.layers.Dense(1,input_shape=(1,)))\n",
        "# tf.keras.optimizers.SGD(learning_rate=0.01, momentum=0.0, nesterov=False, name='SGD', **kwargs)\n",
        "model.compile(optimizer=tf.keras.optimizers.SGD(0.001,0.9),loss='mse')"
      ],
      "execution_count": 16,
      "outputs": []
    },
    {
      "cell_type": "code",
      "metadata": {
        "id": "mgd_7fqalgIf",
        "colab_type": "code",
        "colab": {}
      },
      "source": [
        "def schedule(epoch,lr):\n",
        "  if epoch>=50:\n",
        "    return 0.0001\n",
        "  return 0.001\n",
        "\n",
        "scheduler=tf.keras.callbacks.LearningRateScheduler(schedule)\n"
      ],
      "execution_count": 17,
      "outputs": []
    },
    {
      "cell_type": "code",
      "metadata": {
        "id": "Z_Q1HmP6n-Tv",
        "colab_type": "code",
        "colab": {
          "base_uri": "https://localhost:8080/",
          "height": 1000
        },
        "outputId": "4f276a02-6d72-48ca-dfbc-cb00262967fc"
      },
      "source": [
        "r=model.fit(X,Y,epochs=200,callbacks=[scheduler])"
      ],
      "execution_count": 18,
      "outputs": [
        {
          "output_type": "stream",
          "text": [
            "Epoch 1/200\n",
            "6/6 [==============================] - 0s 2ms/step - loss: 340.1423 - lr: 0.0010\n",
            "Epoch 2/200\n",
            "6/6 [==============================] - 0s 2ms/step - loss: 288.0244 - lr: 0.0010\n",
            "Epoch 3/200\n",
            "6/6 [==============================] - 0s 2ms/step - loss: 240.2801 - lr: 0.0010\n",
            "Epoch 4/200\n",
            "6/6 [==============================] - 0s 2ms/step - loss: 199.8944 - lr: 0.0010\n",
            "Epoch 5/200\n",
            "6/6 [==============================] - 0s 2ms/step - loss: 206.4892 - lr: 0.0010\n",
            "Epoch 6/200\n",
            "6/6 [==============================] - 0s 2ms/step - loss: 132.7550 - lr: 0.0010\n",
            "Epoch 7/200\n",
            "6/6 [==============================] - 0s 2ms/step - loss: 116.3311 - lr: 0.0010\n",
            "Epoch 8/200\n",
            "6/6 [==============================] - 0s 2ms/step - loss: 79.4108 - lr: 0.0010\n",
            "Epoch 9/200\n",
            "6/6 [==============================] - 0s 2ms/step - loss: 60.2240 - lr: 0.0010\n",
            "Epoch 10/200\n",
            "6/6 [==============================] - 0s 2ms/step - loss: 49.5999 - lr: 0.0010\n",
            "Epoch 11/200\n",
            "6/6 [==============================] - 0s 2ms/step - loss: 32.4708 - lr: 0.0010\n",
            "Epoch 12/200\n",
            "6/6 [==============================] - 0s 2ms/step - loss: 31.2890 - lr: 0.0010\n",
            "Epoch 13/200\n",
            "6/6 [==============================] - 0s 2ms/step - loss: 18.8504 - lr: 0.0010\n",
            "Epoch 14/200\n",
            "6/6 [==============================] - 0s 2ms/step - loss: 29.6373 - lr: 0.0010\n",
            "Epoch 15/200\n",
            "6/6 [==============================] - 0s 2ms/step - loss: 26.3890 - lr: 0.0010\n",
            "Epoch 16/200\n",
            "6/6 [==============================] - 0s 2ms/step - loss: 14.3136 - lr: 0.0010\n",
            "Epoch 17/200\n",
            "6/6 [==============================] - 0s 2ms/step - loss: 30.9711 - lr: 0.0010\n",
            "Epoch 18/200\n",
            "6/6 [==============================] - 0s 3ms/step - loss: 20.2029 - lr: 0.0010\n",
            "Epoch 19/200\n",
            "6/6 [==============================] - 0s 2ms/step - loss: 8.6734 - lr: 0.0010\n",
            "Epoch 20/200\n",
            "6/6 [==============================] - 0s 2ms/step - loss: 5.0706 - lr: 0.0010\n",
            "Epoch 21/200\n",
            "6/6 [==============================] - 0s 2ms/step - loss: 6.4773 - lr: 0.0010\n",
            "Epoch 22/200\n",
            "6/6 [==============================] - 0s 2ms/step - loss: 5.7257 - lr: 0.0010\n",
            "Epoch 23/200\n",
            "6/6 [==============================] - 0s 2ms/step - loss: 2.6994 - lr: 0.0010\n",
            "Epoch 24/200\n",
            "6/6 [==============================] - 0s 2ms/step - loss: 2.1203 - lr: 0.0010\n",
            "Epoch 25/200\n",
            "6/6 [==============================] - 0s 2ms/step - loss: 1.5476 - lr: 0.0010\n",
            "Epoch 26/200\n",
            "6/6 [==============================] - 0s 2ms/step - loss: 1.2003 - lr: 0.0010\n",
            "Epoch 27/200\n",
            "6/6 [==============================] - 0s 2ms/step - loss: 1.1128 - lr: 0.0010\n",
            "Epoch 28/200\n",
            "6/6 [==============================] - 0s 2ms/step - loss: 1.0591 - lr: 0.0010\n",
            "Epoch 29/200\n",
            "6/6 [==============================] - 0s 1ms/step - loss: 1.0410 - lr: 0.0010\n",
            "Epoch 30/200\n",
            "6/6 [==============================] - 0s 2ms/step - loss: 1.0169 - lr: 0.0010\n",
            "Epoch 31/200\n",
            "6/6 [==============================] - 0s 2ms/step - loss: 1.0063 - lr: 0.0010\n",
            "Epoch 32/200\n",
            "6/6 [==============================] - 0s 2ms/step - loss: 0.9146 - lr: 0.0010\n",
            "Epoch 33/200\n",
            "6/6 [==============================] - 0s 2ms/step - loss: 0.8989 - lr: 0.0010\n",
            "Epoch 34/200\n",
            "6/6 [==============================] - 0s 2ms/step - loss: 0.9617 - lr: 0.0010\n",
            "Epoch 35/200\n",
            "6/6 [==============================] - 0s 2ms/step - loss: 0.9273 - lr: 0.0010\n",
            "Epoch 36/200\n",
            "6/6 [==============================] - 0s 2ms/step - loss: 0.9854 - lr: 0.0010\n",
            "Epoch 37/200\n",
            "6/6 [==============================] - 0s 2ms/step - loss: 0.9189 - lr: 0.0010\n",
            "Epoch 38/200\n",
            "6/6 [==============================] - 0s 2ms/step - loss: 1.0996 - lr: 0.0010\n",
            "Epoch 39/200\n",
            "6/6 [==============================] - 0s 2ms/step - loss: 1.3659 - lr: 0.0010\n",
            "Epoch 40/200\n",
            "6/6 [==============================] - 0s 2ms/step - loss: 1.3400 - lr: 0.0010\n",
            "Epoch 41/200\n",
            "6/6 [==============================] - 0s 2ms/step - loss: 0.9485 - lr: 0.0010\n",
            "Epoch 42/200\n",
            "6/6 [==============================] - 0s 2ms/step - loss: 0.9054 - lr: 0.0010\n",
            "Epoch 43/200\n",
            "6/6 [==============================] - 0s 2ms/step - loss: 1.0042 - lr: 0.0010\n",
            "Epoch 44/200\n",
            "6/6 [==============================] - 0s 2ms/step - loss: 1.0543 - lr: 0.0010\n",
            "Epoch 45/200\n",
            "6/6 [==============================] - 0s 2ms/step - loss: 0.9564 - lr: 0.0010\n",
            "Epoch 46/200\n",
            "6/6 [==============================] - 0s 2ms/step - loss: 1.0295 - lr: 0.0010\n",
            "Epoch 47/200\n",
            "6/6 [==============================] - 0s 2ms/step - loss: 0.9347 - lr: 0.0010\n",
            "Epoch 48/200\n",
            "6/6 [==============================] - 0s 2ms/step - loss: 0.8653 - lr: 0.0010\n",
            "Epoch 49/200\n",
            "6/6 [==============================] - 0s 2ms/step - loss: 0.9399 - lr: 0.0010\n",
            "Epoch 50/200\n",
            "6/6 [==============================] - 0s 2ms/step - loss: 0.9848 - lr: 0.0010\n",
            "Epoch 51/200\n",
            "6/6 [==============================] - 0s 2ms/step - loss: 1.0706 - lr: 1.0000e-04\n",
            "Epoch 52/200\n",
            "6/6 [==============================] - 0s 2ms/step - loss: 1.4967 - lr: 1.0000e-04\n",
            "Epoch 53/200\n",
            "6/6 [==============================] - 0s 2ms/step - loss: 0.9843 - lr: 1.0000e-04\n",
            "Epoch 54/200\n",
            "6/6 [==============================] - 0s 2ms/step - loss: 1.0022 - lr: 1.0000e-04\n",
            "Epoch 55/200\n",
            "6/6 [==============================] - 0s 2ms/step - loss: 0.9581 - lr: 1.0000e-04\n",
            "Epoch 56/200\n",
            "6/6 [==============================] - 0s 2ms/step - loss: 0.8710 - lr: 1.0000e-04\n",
            "Epoch 57/200\n",
            "6/6 [==============================] - 0s 2ms/step - loss: 0.8873 - lr: 1.0000e-04\n",
            "Epoch 58/200\n",
            "6/6 [==============================] - 0s 2ms/step - loss: 0.9044 - lr: 1.0000e-04\n",
            "Epoch 59/200\n",
            "6/6 [==============================] - 0s 2ms/step - loss: 0.8802 - lr: 1.0000e-04\n",
            "Epoch 60/200\n",
            "6/6 [==============================] - 0s 2ms/step - loss: 0.8824 - lr: 1.0000e-04\n",
            "Epoch 61/200\n",
            "6/6 [==============================] - 0s 2ms/step - loss: 0.8728 - lr: 1.0000e-04\n",
            "Epoch 62/200\n",
            "6/6 [==============================] - 0s 2ms/step - loss: 0.8776 - lr: 1.0000e-04\n",
            "Epoch 63/200\n",
            "6/6 [==============================] - 0s 2ms/step - loss: 0.8885 - lr: 1.0000e-04\n",
            "Epoch 64/200\n",
            "6/6 [==============================] - 0s 2ms/step - loss: 0.8717 - lr: 1.0000e-04\n",
            "Epoch 65/200\n",
            "6/6 [==============================] - 0s 2ms/step - loss: 0.8794 - lr: 1.0000e-04\n",
            "Epoch 66/200\n",
            "6/6 [==============================] - 0s 2ms/step - loss: 0.8822 - lr: 1.0000e-04\n",
            "Epoch 67/200\n",
            "6/6 [==============================] - 0s 2ms/step - loss: 0.8771 - lr: 1.0000e-04\n",
            "Epoch 68/200\n",
            "6/6 [==============================] - 0s 2ms/step - loss: 0.8729 - lr: 1.0000e-04\n",
            "Epoch 69/200\n",
            "6/6 [==============================] - 0s 2ms/step - loss: 0.8760 - lr: 1.0000e-04\n",
            "Epoch 70/200\n",
            "6/6 [==============================] - 0s 2ms/step - loss: 0.8732 - lr: 1.0000e-04\n",
            "Epoch 71/200\n",
            "6/6 [==============================] - 0s 2ms/step - loss: 0.8727 - lr: 1.0000e-04\n",
            "Epoch 72/200\n",
            "6/6 [==============================] - 0s 2ms/step - loss: 0.8695 - lr: 1.0000e-04\n",
            "Epoch 73/200\n",
            "6/6 [==============================] - 0s 2ms/step - loss: 0.8819 - lr: 1.0000e-04\n",
            "Epoch 74/200\n",
            "6/6 [==============================] - 0s 2ms/step - loss: 0.8708 - lr: 1.0000e-04\n",
            "Epoch 75/200\n",
            "6/6 [==============================] - 0s 2ms/step - loss: 0.9001 - lr: 1.0000e-04\n",
            "Epoch 76/200\n",
            "6/6 [==============================] - 0s 2ms/step - loss: 0.9096 - lr: 1.0000e-04\n",
            "Epoch 77/200\n",
            "6/6 [==============================] - 0s 2ms/step - loss: 0.8773 - lr: 1.0000e-04\n",
            "Epoch 78/200\n",
            "6/6 [==============================] - 0s 3ms/step - loss: 0.8687 - lr: 1.0000e-04\n",
            "Epoch 79/200\n",
            "6/6 [==============================] - 0s 2ms/step - loss: 0.8693 - lr: 1.0000e-04\n",
            "Epoch 80/200\n",
            "6/6 [==============================] - 0s 2ms/step - loss: 0.8724 - lr: 1.0000e-04\n",
            "Epoch 81/200\n",
            "6/6 [==============================] - 0s 2ms/step - loss: 0.8806 - lr: 1.0000e-04\n",
            "Epoch 82/200\n",
            "6/6 [==============================] - 0s 2ms/step - loss: 0.8805 - lr: 1.0000e-04\n",
            "Epoch 83/200\n",
            "6/6 [==============================] - 0s 2ms/step - loss: 0.8844 - lr: 1.0000e-04\n",
            "Epoch 84/200\n",
            "6/6 [==============================] - 0s 2ms/step - loss: 0.8988 - lr: 1.0000e-04\n",
            "Epoch 85/200\n",
            "6/6 [==============================] - 0s 2ms/step - loss: 0.8964 - lr: 1.0000e-04\n",
            "Epoch 86/200\n",
            "6/6 [==============================] - 0s 2ms/step - loss: 0.8715 - lr: 1.0000e-04\n",
            "Epoch 87/200\n",
            "6/6 [==============================] - 0s 2ms/step - loss: 0.8749 - lr: 1.0000e-04\n",
            "Epoch 88/200\n",
            "6/6 [==============================] - 0s 2ms/step - loss: 0.8709 - lr: 1.0000e-04\n",
            "Epoch 89/200\n",
            "6/6 [==============================] - 0s 2ms/step - loss: 0.8753 - lr: 1.0000e-04\n",
            "Epoch 90/200\n",
            "6/6 [==============================] - 0s 2ms/step - loss: 0.8946 - lr: 1.0000e-04\n",
            "Epoch 91/200\n",
            "6/6 [==============================] - 0s 3ms/step - loss: 0.8913 - lr: 1.0000e-04\n",
            "Epoch 92/200\n",
            "6/6 [==============================] - 0s 2ms/step - loss: 0.8662 - lr: 1.0000e-04\n",
            "Epoch 93/200\n",
            "6/6 [==============================] - 0s 2ms/step - loss: 0.8754 - lr: 1.0000e-04\n",
            "Epoch 94/200\n",
            "6/6 [==============================] - 0s 2ms/step - loss: 0.8844 - lr: 1.0000e-04\n",
            "Epoch 95/200\n",
            "6/6 [==============================] - 0s 2ms/step - loss: 0.8773 - lr: 1.0000e-04\n",
            "Epoch 96/200\n",
            "6/6 [==============================] - 0s 2ms/step - loss: 0.8750 - lr: 1.0000e-04\n",
            "Epoch 97/200\n",
            "6/6 [==============================] - 0s 2ms/step - loss: 0.8729 - lr: 1.0000e-04\n",
            "Epoch 98/200\n",
            "6/6 [==============================] - 0s 3ms/step - loss: 0.8737 - lr: 1.0000e-04\n",
            "Epoch 99/200\n",
            "6/6 [==============================] - 0s 2ms/step - loss: 0.8730 - lr: 1.0000e-04\n",
            "Epoch 100/200\n",
            "6/6 [==============================] - 0s 2ms/step - loss: 0.8668 - lr: 1.0000e-04\n",
            "Epoch 101/200\n",
            "6/6 [==============================] - 0s 2ms/step - loss: 0.8856 - lr: 1.0000e-04\n",
            "Epoch 102/200\n",
            "6/6 [==============================] - 0s 2ms/step - loss: 0.9140 - lr: 1.0000e-04\n",
            "Epoch 103/200\n",
            "6/6 [==============================] - 0s 2ms/step - loss: 0.8928 - lr: 1.0000e-04\n",
            "Epoch 104/200\n",
            "6/6 [==============================] - 0s 2ms/step - loss: 0.8834 - lr: 1.0000e-04\n",
            "Epoch 105/200\n",
            "6/6 [==============================] - 0s 2ms/step - loss: 0.8762 - lr: 1.0000e-04\n",
            "Epoch 106/200\n",
            "6/6 [==============================] - 0s 2ms/step - loss: 0.8832 - lr: 1.0000e-04\n",
            "Epoch 107/200\n",
            "6/6 [==============================] - 0s 2ms/step - loss: 0.9528 - lr: 1.0000e-04\n",
            "Epoch 108/200\n",
            "6/6 [==============================] - 0s 2ms/step - loss: 0.9112 - lr: 1.0000e-04\n",
            "Epoch 109/200\n",
            "6/6 [==============================] - 0s 2ms/step - loss: 0.8712 - lr: 1.0000e-04\n",
            "Epoch 110/200\n",
            "6/6 [==============================] - 0s 2ms/step - loss: 0.8730 - lr: 1.0000e-04\n",
            "Epoch 111/200\n",
            "6/6 [==============================] - 0s 2ms/step - loss: 0.8709 - lr: 1.0000e-04\n",
            "Epoch 112/200\n",
            "6/6 [==============================] - 0s 2ms/step - loss: 0.8963 - lr: 1.0000e-04\n",
            "Epoch 113/200\n",
            "6/6 [==============================] - 0s 2ms/step - loss: 0.8737 - lr: 1.0000e-04\n",
            "Epoch 114/200\n",
            "6/6 [==============================] - 0s 2ms/step - loss: 0.8819 - lr: 1.0000e-04\n",
            "Epoch 115/200\n",
            "6/6 [==============================] - 0s 2ms/step - loss: 0.8909 - lr: 1.0000e-04\n",
            "Epoch 116/200\n",
            "6/6 [==============================] - 0s 2ms/step - loss: 0.8709 - lr: 1.0000e-04\n",
            "Epoch 117/200\n",
            "6/6 [==============================] - 0s 2ms/step - loss: 0.8797 - lr: 1.0000e-04\n",
            "Epoch 118/200\n",
            "6/6 [==============================] - 0s 2ms/step - loss: 0.9014 - lr: 1.0000e-04\n",
            "Epoch 119/200\n",
            "6/6 [==============================] - 0s 2ms/step - loss: 0.8992 - lr: 1.0000e-04\n",
            "Epoch 120/200\n",
            "6/6 [==============================] - 0s 2ms/step - loss: 0.8812 - lr: 1.0000e-04\n",
            "Epoch 121/200\n",
            "6/6 [==============================] - 0s 2ms/step - loss: 0.8728 - lr: 1.0000e-04\n",
            "Epoch 122/200\n",
            "6/6 [==============================] - 0s 2ms/step - loss: 0.8722 - lr: 1.0000e-04\n",
            "Epoch 123/200\n",
            "6/6 [==============================] - 0s 2ms/step - loss: 0.8730 - lr: 1.0000e-04\n",
            "Epoch 124/200\n",
            "6/6 [==============================] - 0s 2ms/step - loss: 0.8755 - lr: 1.0000e-04\n",
            "Epoch 125/200\n",
            "6/6 [==============================] - 0s 2ms/step - loss: 0.8733 - lr: 1.0000e-04\n",
            "Epoch 126/200\n",
            "6/6 [==============================] - 0s 2ms/step - loss: 0.8742 - lr: 1.0000e-04\n",
            "Epoch 127/200\n",
            "6/6 [==============================] - 0s 2ms/step - loss: 0.8724 - lr: 1.0000e-04\n",
            "Epoch 128/200\n",
            "6/6 [==============================] - 0s 2ms/step - loss: 0.8697 - lr: 1.0000e-04\n",
            "Epoch 129/200\n",
            "6/6 [==============================] - 0s 2ms/step - loss: 0.8759 - lr: 1.0000e-04\n",
            "Epoch 130/200\n",
            "6/6 [==============================] - 0s 2ms/step - loss: 0.8802 - lr: 1.0000e-04\n",
            "Epoch 131/200\n",
            "6/6 [==============================] - 0s 2ms/step - loss: 0.8978 - lr: 1.0000e-04\n",
            "Epoch 132/200\n",
            "6/6 [==============================] - 0s 2ms/step - loss: 0.8857 - lr: 1.0000e-04\n",
            "Epoch 133/200\n",
            "6/6 [==============================] - 0s 2ms/step - loss: 0.8744 - lr: 1.0000e-04\n",
            "Epoch 134/200\n",
            "6/6 [==============================] - 0s 2ms/step - loss: 0.9064 - lr: 1.0000e-04\n",
            "Epoch 135/200\n",
            "6/6 [==============================] - 0s 2ms/step - loss: 0.8687 - lr: 1.0000e-04\n",
            "Epoch 136/200\n",
            "6/6 [==============================] - 0s 2ms/step - loss: 0.9359 - lr: 1.0000e-04\n",
            "Epoch 137/200\n",
            "6/6 [==============================] - 0s 2ms/step - loss: 0.9394 - lr: 1.0000e-04\n",
            "Epoch 138/200\n",
            "6/6 [==============================] - 0s 2ms/step - loss: 0.8852 - lr: 1.0000e-04\n",
            "Epoch 139/200\n",
            "6/6 [==============================] - 0s 2ms/step - loss: 0.8764 - lr: 1.0000e-04\n",
            "Epoch 140/200\n",
            "6/6 [==============================] - 0s 2ms/step - loss: 0.8727 - lr: 1.0000e-04\n",
            "Epoch 141/200\n",
            "6/6 [==============================] - 0s 2ms/step - loss: 0.8754 - lr: 1.0000e-04\n",
            "Epoch 142/200\n",
            "6/6 [==============================] - 0s 2ms/step - loss: 0.8837 - lr: 1.0000e-04\n",
            "Epoch 143/200\n",
            "6/6 [==============================] - 0s 2ms/step - loss: 0.8839 - lr: 1.0000e-04\n",
            "Epoch 144/200\n",
            "6/6 [==============================] - 0s 2ms/step - loss: 0.8770 - lr: 1.0000e-04\n",
            "Epoch 145/200\n",
            "6/6 [==============================] - 0s 2ms/step - loss: 0.8664 - lr: 1.0000e-04\n",
            "Epoch 146/200\n",
            "6/6 [==============================] - 0s 3ms/step - loss: 0.8825 - lr: 1.0000e-04\n",
            "Epoch 147/200\n",
            "6/6 [==============================] - 0s 2ms/step - loss: 0.8912 - lr: 1.0000e-04\n",
            "Epoch 148/200\n",
            "6/6 [==============================] - 0s 2ms/step - loss: 0.8796 - lr: 1.0000e-04\n",
            "Epoch 149/200\n",
            "6/6 [==============================] - 0s 2ms/step - loss: 0.8703 - lr: 1.0000e-04\n",
            "Epoch 150/200\n",
            "6/6 [==============================] - 0s 2ms/step - loss: 0.8716 - lr: 1.0000e-04\n",
            "Epoch 151/200\n",
            "6/6 [==============================] - 0s 2ms/step - loss: 0.8783 - lr: 1.0000e-04\n",
            "Epoch 152/200\n",
            "6/6 [==============================] - 0s 2ms/step - loss: 0.8750 - lr: 1.0000e-04\n",
            "Epoch 153/200\n",
            "6/6 [==============================] - 0s 2ms/step - loss: 0.8714 - lr: 1.0000e-04\n",
            "Epoch 154/200\n",
            "6/6 [==============================] - 0s 2ms/step - loss: 0.8718 - lr: 1.0000e-04\n",
            "Epoch 155/200\n",
            "6/6 [==============================] - 0s 2ms/step - loss: 0.8711 - lr: 1.0000e-04\n",
            "Epoch 156/200\n",
            "6/6 [==============================] - 0s 2ms/step - loss: 0.8713 - lr: 1.0000e-04\n",
            "Epoch 157/200\n",
            "6/6 [==============================] - 0s 2ms/step - loss: 0.8750 - lr: 1.0000e-04\n",
            "Epoch 158/200\n",
            "6/6 [==============================] - 0s 2ms/step - loss: 0.8741 - lr: 1.0000e-04\n",
            "Epoch 159/200\n",
            "6/6 [==============================] - 0s 2ms/step - loss: 0.8989 - lr: 1.0000e-04\n",
            "Epoch 160/200\n",
            "6/6 [==============================] - 0s 2ms/step - loss: 0.8712 - lr: 1.0000e-04\n",
            "Epoch 161/200\n",
            "6/6 [==============================] - 0s 2ms/step - loss: 0.8735 - lr: 1.0000e-04\n",
            "Epoch 162/200\n",
            "6/6 [==============================] - 0s 2ms/step - loss: 0.8839 - lr: 1.0000e-04\n",
            "Epoch 163/200\n",
            "6/6 [==============================] - 0s 2ms/step - loss: 0.8715 - lr: 1.0000e-04\n",
            "Epoch 164/200\n",
            "6/6 [==============================] - 0s 2ms/step - loss: 0.8736 - lr: 1.0000e-04\n",
            "Epoch 165/200\n",
            "6/6 [==============================] - 0s 2ms/step - loss: 0.8751 - lr: 1.0000e-04\n",
            "Epoch 166/200\n",
            "6/6 [==============================] - 0s 2ms/step - loss: 0.8688 - lr: 1.0000e-04\n",
            "Epoch 167/200\n",
            "6/6 [==============================] - 0s 2ms/step - loss: 0.8703 - lr: 1.0000e-04\n",
            "Epoch 168/200\n",
            "6/6 [==============================] - 0s 2ms/step - loss: 0.8713 - lr: 1.0000e-04\n",
            "Epoch 169/200\n",
            "6/6 [==============================] - 0s 2ms/step - loss: 0.8730 - lr: 1.0000e-04\n",
            "Epoch 170/200\n",
            "6/6 [==============================] - 0s 2ms/step - loss: 0.8709 - lr: 1.0000e-04\n",
            "Epoch 171/200\n",
            "6/6 [==============================] - 0s 2ms/step - loss: 0.8780 - lr: 1.0000e-04\n",
            "Epoch 172/200\n",
            "6/6 [==============================] - 0s 2ms/step - loss: 0.8775 - lr: 1.0000e-04\n",
            "Epoch 173/200\n",
            "6/6 [==============================] - 0s 2ms/step - loss: 0.8725 - lr: 1.0000e-04\n",
            "Epoch 174/200\n",
            "6/6 [==============================] - 0s 2ms/step - loss: 0.8705 - lr: 1.0000e-04\n",
            "Epoch 175/200\n",
            "6/6 [==============================] - 0s 2ms/step - loss: 0.8708 - lr: 1.0000e-04\n",
            "Epoch 176/200\n",
            "6/6 [==============================] - 0s 2ms/step - loss: 0.8779 - lr: 1.0000e-04\n",
            "Epoch 177/200\n",
            "6/6 [==============================] - 0s 2ms/step - loss: 0.8780 - lr: 1.0000e-04\n",
            "Epoch 178/200\n",
            "6/6 [==============================] - 0s 2ms/step - loss: 0.8734 - lr: 1.0000e-04\n",
            "Epoch 179/200\n",
            "6/6 [==============================] - 0s 2ms/step - loss: 0.8699 - lr: 1.0000e-04\n",
            "Epoch 180/200\n",
            "6/6 [==============================] - 0s 2ms/step - loss: 0.8706 - lr: 1.0000e-04\n",
            "Epoch 181/200\n",
            "6/6 [==============================] - 0s 2ms/step - loss: 0.8708 - lr: 1.0000e-04\n",
            "Epoch 182/200\n",
            "6/6 [==============================] - 0s 2ms/step - loss: 0.8865 - lr: 1.0000e-04\n",
            "Epoch 183/200\n",
            "6/6 [==============================] - 0s 2ms/step - loss: 0.8877 - lr: 1.0000e-04\n",
            "Epoch 184/200\n",
            "6/6 [==============================] - 0s 2ms/step - loss: 0.8688 - lr: 1.0000e-04\n",
            "Epoch 185/200\n",
            "6/6 [==============================] - 0s 2ms/step - loss: 0.8859 - lr: 1.0000e-04\n",
            "Epoch 186/200\n",
            "6/6 [==============================] - 0s 2ms/step - loss: 0.8731 - lr: 1.0000e-04\n",
            "Epoch 187/200\n",
            "6/6 [==============================] - 0s 2ms/step - loss: 0.8731 - lr: 1.0000e-04\n",
            "Epoch 188/200\n",
            "6/6 [==============================] - 0s 2ms/step - loss: 0.8718 - lr: 1.0000e-04\n",
            "Epoch 189/200\n",
            "6/6 [==============================] - 0s 2ms/step - loss: 0.8781 - lr: 1.0000e-04\n",
            "Epoch 190/200\n",
            "6/6 [==============================] - 0s 2ms/step - loss: 0.8796 - lr: 1.0000e-04\n",
            "Epoch 191/200\n",
            "6/6 [==============================] - 0s 2ms/step - loss: 0.8719 - lr: 1.0000e-04\n",
            "Epoch 192/200\n",
            "6/6 [==============================] - 0s 2ms/step - loss: 0.8728 - lr: 1.0000e-04\n",
            "Epoch 193/200\n",
            "6/6 [==============================] - 0s 3ms/step - loss: 0.8821 - lr: 1.0000e-04\n",
            "Epoch 194/200\n",
            "6/6 [==============================] - 0s 2ms/step - loss: 0.8749 - lr: 1.0000e-04\n",
            "Epoch 195/200\n",
            "6/6 [==============================] - 0s 2ms/step - loss: 0.8905 - lr: 1.0000e-04\n",
            "Epoch 196/200\n",
            "6/6 [==============================] - 0s 2ms/step - loss: 0.9085 - lr: 1.0000e-04\n",
            "Epoch 197/200\n",
            "6/6 [==============================] - 0s 2ms/step - loss: 0.8747 - lr: 1.0000e-04\n",
            "Epoch 198/200\n",
            "6/6 [==============================] - 0s 2ms/step - loss: 0.8696 - lr: 1.0000e-04\n",
            "Epoch 199/200\n",
            "6/6 [==============================] - 0s 2ms/step - loss: 0.8727 - lr: 1.0000e-04\n",
            "Epoch 200/200\n",
            "6/6 [==============================] - 0s 2ms/step - loss: 0.8736 - lr: 1.0000e-04\n"
          ],
          "name": "stdout"
        }
      ]
    },
    {
      "cell_type": "code",
      "metadata": {
        "id": "uufbktQDoOu5",
        "colab_type": "code",
        "colab": {
          "base_uri": "https://localhost:8080/",
          "height": 282
        },
        "outputId": "1879836f-cfa7-4aa2-c369-ab22b9cf7a52"
      },
      "source": [
        "plt.plot(r.history['loss'],label='loss')"
      ],
      "execution_count": 19,
      "outputs": [
        {
          "output_type": "execute_result",
          "data": {
            "text/plain": [
              "[<matplotlib.lines.Line2D at 0x7f7c08600470>]"
            ]
          },
          "metadata": {
            "tags": []
          },
          "execution_count": 19
        },
        {
          "output_type": "display_data",
          "data": {
            "image/png": "[encoded data removed]",
            "text/plain": [
              "<Figure size 432x288 with 1 Axes>"
            ]
          },
          "metadata": {
            "tags": [],
            "needs_background": "light"
          }
        }
      ]
    },
    {
      "cell_type": "code",
      "metadata": {
        "id": "Wz3kW2M-pHzA",
        "colab_type": "code",
        "colab": {
          "base_uri": "https://localhost:8080/",
          "height": 51
        },
        "outputId": "0fa4fd05-b830-404e-897f-1d099553e3a4"
      },
      "source": [
        "print(model.layers)\n",
        "print(model.layers[0].get_weights())"
      ],
      "execution_count": 20,
      "outputs": [
        {
          "output_type": "stream",
          "text": [
            "[<tensorflow.python.keras.layers.core.Dense object at 0x7f7c12e9e0f0>]\n",
            "[array([[0.34385157]], dtype=float32), array([17.76865], dtype=float32)]\n"
          ],
          "name": "stdout"
        }
      ]
    },
    {
      "cell_type": "code",
      "metadata": {
        "id": "J1zSMkvjp1JU",
        "colab_type": "code",
        "colab": {
          "base_uri": "https://localhost:8080/",
          "height": 34
        },
        "outputId": "5a20264d-3e98-48c6-b7a2-6b6f758374cc"
      },
      "source": [
        "a = model.layers[0].get_weights()[0][0,0]\n",
        "a"
      ],
      "execution_count": 21,
      "outputs": [
        {
          "output_type": "execute_result",
          "data": {
            "text/plain": [
              "0.34385157"
            ]
          },
          "metadata": {
            "tags": []
          },
          "execution_count": 21
        }
      ]
    },
    {
      "cell_type": "code",
      "metadata": {
        "id": "zLB1D6y5qf5E",
        "colab_type": "code",
        "colab": {
          "base_uri": "https://localhost:8080/",
          "height": 34
        },
        "outputId": "a60e0429-ec78-495d-9e17-501e2542eb57"
      },
      "source": [
        "print(\"Time to double\",np.log(2)/a)"
      ],
      "execution_count": 22,
      "outputs": [
        {
          "output_type": "stream",
          "text": [
            "Time to double 2.0158325523681584\n"
          ],
          "name": "stdout"
        }
      ]
    },
    {
      "cell_type": "code",
      "metadata": {
        "id": "jYnL58SlrQ8T",
        "colab_type": "code",
        "colab": {
          "base_uri": "https://localhost:8080/",
          "height": 578
        },
        "outputId": "1a29ffc0-0992-4ae4-9e50-1c9dba819522"
      },
      "source": [
        "Y"
      ],
      "execution_count": 25,
      "outputs": [
        {
          "output_type": "execute_result",
          "data": {
            "text/plain": [
              "array([ 7.7406644 ,  8.16051825,  7.82404601,  7.82404601,  8.31874225,\n",
              "        8.41183268,  8.98719682,  8.16337132,  8.51719319,  9.04782144,\n",
              "        8.77955746,  9.10497986, 10.27505111,  9.76995616, 10.27505111,\n",
              "       11.12726298,  9.35010231, 10.91508846, 11.80559508,  9.99879773,\n",
              "       11.05089001, 12.15477935, 12.52452638, 10.1266311 ,  9.680344  ,\n",
              "       11.60823564, 12.8346813 , 10.30895266, 12.86099861, 13.50079981,\n",
              "       12.51722707, 13.22311328, 12.10071213, 12.4292162 , 13.30468493,\n",
              "       13.81551056, 13.98122413, 12.64432758, 13.99783211, 14.11561515,\n",
              "       10.46310334, 13.30468493, 13.71015004, 14.84512998, 14.94691267,\n",
              "       13.26901803, 14.73180129, 14.73180129, 11.61728548, 15.52025865,\n",
              "       15.27412558, 16.11809565, 15.83041358, 15.99026228, 15.83041358,\n",
              "       16.06680236, 16.41820024, 16.860033  , 16.860033  , 17.12605357,\n",
              "       16.87421763, 16.90655301, 17.55318018, 19.06778399, 17.62217305,\n",
              "       17.82284374, 18.53400943, 19.80697511, 18.94540927, 19.03044632,\n",
              "       19.24485619, 19.70715477, 20.1070797 , 17.66565816, 17.81003478,\n",
              "       18.47800581, 19.2091381 , 18.92145603, 19.33697148, 19.48883383,\n",
              "       18.94540927, 19.83166772, 20.21244021, 20.44882899, 21.34920427,\n",
              "       19.88393615, 19.95323761, 17.0736071 , 19.25358987, 20.19901719,\n",
              "       19.83410377, 20.40992402, 20.44619394, 20.48627688, 20.62233992,\n",
              "       20.72326584, 21.81853922, 20.72326584, 20.87168584, 20.88026959,\n",
              "       20.90558739, 20.90558739, 20.98793514, 21.05973807, 21.05973807,\n",
              "       21.05973807, 21.25389409, 21.28288162, 21.34384232, 21.36511972,\n",
              "       21.36511972, 21.41641302, 21.41641302, 21.41641302, 21.82187813,\n",
              "       21.46520318, 21.54304567, 21.55617496, 21.67877728, 21.67877728,\n",
              "       21.73486675, 21.82187813, 21.82187813, 22.39097266, 22.39097266,\n",
              "       22.863332  , 21.85466795, 21.88641665, 21.91718831, 22.10705707,\n",
              "       22.15835036, 22.18188086, 22.18420374, 22.29188175, 22.29188175,\n",
              "       22.29188175, 22.33270375, 22.33270375, 22.43886395, 22.53155461,\n",
              "       22.65478725, 22.1095602 , 22.65478725, 22.42801393, 22.42801393,\n",
              "       22.66917599, 22.68336062, 22.80270738, 22.69734686, 22.80270738,\n",
              "       22.80270738, 22.99539172, 19.33697148, 23.02585093, 22.41888145,\n",
              "       23.02585093, 22.18188086, 23.61363759, 23.67817612, 22.90661684,\n",
              "       23.88451255, 22.92049041])"
            ]
          },
          "metadata": {
            "tags": []
          },
          "execution_count": 25
        }
      ]
    },
    {
      "cell_type": "code",
      "metadata": {
        "id": "Ztgcl_C9rJHk",
        "colab_type": "code",
        "colab": {
          "base_uri": "https://localhost:8080/",
          "height": 578
        },
        "outputId": "edc64d43-6abf-49be-da7d-655a7f09b900"
      },
      "source": [
        "np.array(Y)"
      ],
      "execution_count": 24,
      "outputs": [
        {
          "output_type": "execute_result",
          "data": {
            "text/plain": [
              "array([ 7.7406644 ,  8.16051825,  7.82404601,  7.82404601,  8.31874225,\n",
              "        8.41183268,  8.98719682,  8.16337132,  8.51719319,  9.04782144,\n",
              "        8.77955746,  9.10497986, 10.27505111,  9.76995616, 10.27505111,\n",
              "       11.12726298,  9.35010231, 10.91508846, 11.80559508,  9.99879773,\n",
              "       11.05089001, 12.15477935, 12.52452638, 10.1266311 ,  9.680344  ,\n",
              "       11.60823564, 12.8346813 , 10.30895266, 12.86099861, 13.50079981,\n",
              "       12.51722707, 13.22311328, 12.10071213, 12.4292162 , 13.30468493,\n",
              "       13.81551056, 13.98122413, 12.64432758, 13.99783211, 14.11561515,\n",
              "       10.46310334, 13.30468493, 13.71015004, 14.84512998, 14.94691267,\n",
              "       13.26901803, 14.73180129, 14.73180129, 11.61728548, 15.52025865,\n",
              "       15.27412558, 16.11809565, 15.83041358, 15.99026228, 15.83041358,\n",
              "       16.06680236, 16.41820024, 16.860033  , 16.860033  , 17.12605357,\n",
              "       16.87421763, 16.90655301, 17.55318018, 19.06778399, 17.62217305,\n",
              "       17.82284374, 18.53400943, 19.80697511, 18.94540927, 19.03044632,\n",
              "       19.24485619, 19.70715477, 20.1070797 , 17.66565816, 17.81003478,\n",
              "       18.47800581, 19.2091381 , 18.92145603, 19.33697148, 19.48883383,\n",
              "       18.94540927, 19.83166772, 20.21244021, 20.44882899, 21.34920427,\n",
              "       19.88393615, 19.95323761, 17.0736071 , 19.25358987, 20.19901719,\n",
              "       19.83410377, 20.40992402, 20.44619394, 20.48627688, 20.62233992,\n",
              "       20.72326584, 21.81853922, 20.72326584, 20.87168584, 20.88026959,\n",
              "       20.90558739, 20.90558739, 20.98793514, 21.05973807, 21.05973807,\n",
              "       21.05973807, 21.25389409, 21.28288162, 21.34384232, 21.36511972,\n",
              "       21.36511972, 21.41641302, 21.41641302, 21.41641302, 21.82187813,\n",
              "       21.46520318, 21.54304567, 21.55617496, 21.67877728, 21.67877728,\n",
              "       21.73486675, 21.82187813, 21.82187813, 22.39097266, 22.39097266,\n",
              "       22.863332  , 21.85466795, 21.88641665, 21.91718831, 22.10705707,\n",
              "       22.15835036, 22.18188086, 22.18420374, 22.29188175, 22.29188175,\n",
              "       22.29188175, 22.33270375, 22.33270375, 22.43886395, 22.53155461,\n",
              "       22.65478725, 22.1095602 , 22.65478725, 22.42801393, 22.42801393,\n",
              "       22.66917599, 22.68336062, 22.80270738, 22.69734686, 22.80270738,\n",
              "       22.80270738, 22.99539172, 19.33697148, 23.02585093, 22.41888145,\n",
              "       23.02585093, 22.18188086, 23.61363759, 23.67817612, 22.90661684,\n",
              "       23.88451255, 22.92049041])"
            ]
          },
          "metadata": {
            "tags": []
          },
          "execution_count": 24
        }
      ]
    },
    {
      "cell_type": "code",
      "metadata": {
        "id": "pleHuOt_rWd2",
        "colab_type": "code",
        "colab": {
          "base_uri": "https://localhost:8080/",
          "height": 714
        },
        "outputId": "198ebfe4-d697-4010-cf61-e7d062edf415"
      },
      "source": [
        "np.array(X).flatten()"
      ],
      "execution_count": 26,
      "outputs": [
        {
          "output_type": "execute_result",
          "data": {
            "text/plain": [
              "array([-31.19753086, -30.19753086, -29.19753086, -29.19753086,\n",
              "       -28.19753086, -28.19753086, -28.19753086, -27.19753086,\n",
              "       -26.19753086, -26.19753086, -26.19753086, -24.19753086,\n",
              "       -24.19753086, -23.19753086, -23.19753086, -23.19753086,\n",
              "       -21.19753086, -20.19753086, -20.19753086, -19.19753086,\n",
              "       -18.19753086, -18.19753086, -17.19753086, -17.19753086,\n",
              "       -17.19753086, -16.19753086, -16.19753086, -16.19753086,\n",
              "       -15.19753086, -15.19753086, -15.19753086, -15.19753086,\n",
              "       -14.19753086, -14.19753086, -13.19753086, -13.19753086,\n",
              "       -13.19753086, -13.19753086, -12.19753086, -11.19753086,\n",
              "       -11.19753086, -10.19753086, -10.19753086,  -9.19753086,\n",
              "        -9.19753086,  -8.19753086,  -8.19753086,  -7.19753086,\n",
              "        -3.19753086,  -7.19753086,  -6.19753086,  -5.19753086,\n",
              "        -5.19753086,  -5.19753086,  -4.19753086,  -3.19753086,\n",
              "        -3.19753086,  -2.19753086,  -2.19753086,  -3.19753086,\n",
              "        -3.19753086,  -3.19753086,  -2.19753086,  -1.19753086,\n",
              "        -1.19753086,  -0.19753086,   1.80246914,   1.80246914,\n",
              "         2.80246914,   3.80246914,   2.80246914,   3.80246914,\n",
              "         4.80246914,   5.80246914,   0.80246914,   0.80246914,\n",
              "        -0.19753086,   2.80246914,   2.80246914,   3.80246914,\n",
              "         4.80246914,   0.80246914,   5.80246914,   6.80246914,\n",
              "         8.80246914,   9.80246914,   4.80246914,   4.80246914,\n",
              "         5.80246914,   1.80246914,   4.80246914,   5.80246914,\n",
              "         5.80246914,   4.80246914,   6.80246914,   7.80246914,\n",
              "         9.80246914,  10.80246914,   8.80246914,   7.80246914,\n",
              "         7.80246914,   9.80246914,   9.80246914,   7.80246914,\n",
              "         9.80246914,  11.80246914,   3.80246914,  12.80246914,\n",
              "        10.80246914,  12.80246914,   5.80246914,   7.80246914,\n",
              "        11.80246914,  12.80246914,  12.80246914,   9.80246914,\n",
              "         8.80246914,   7.80246914,  11.80246914,   8.80246914,\n",
              "         9.80246914,  11.80246914,  13.80246914,  14.80246914,\n",
              "        14.80246914,  15.80246914,   9.80246914,  13.80246914,\n",
              "        13.80246914,  12.80246914,  10.80246914,  14.80246914,\n",
              "        11.80246914,  14.80246914,  14.80246914,  14.80246914,\n",
              "         9.80246914,  10.80246914,  11.80246914,  14.80246914,\n",
              "        15.80246914,  13.80246914,  15.80246914,  14.80246914,\n",
              "        15.80246914,  14.80246914,  12.80246914,  14.80246914,\n",
              "        13.80246914,  14.80246914,  13.80246914,  14.80246914,\n",
              "        14.80246914,  12.80246914,  14.80246914,  15.80246914,\n",
              "        14.80246914,  14.80246914,  14.80246914,  15.80246914,\n",
              "        15.80246914,  15.80246914])"
            ]
          },
          "metadata": {
            "tags": []
          },
          "execution_count": 26
        }
      ]
    },
    {
      "cell_type": "code",
      "metadata": {
        "id": "x35jxCoPq4Vc",
        "colab_type": "code",
        "colab": {
          "base_uri": "https://localhost:8080/",
          "height": 51
        },
        "outputId": "2b777dbf-4241-427b-abc1-ddeb10f8e69c"
      },
      "source": [
        "#Analytical  Solution\n",
        "# If you know the analytical solution\n",
        "X = np.array(X).flatten()\n",
        "Y = np.array(Y)\n",
        "denominator = X.dot(X) - X.mean() * X.sum()\n",
        "a = ( X.dot(Y) - Y.mean()*X.sum() ) / denominator\n",
        "b = ( Y.mean() * X.dot(X) - X.mean() * X.dot(Y) ) / denominator\n",
        "print(a, b)\n",
        "print(\"Time to double:\", np.log(2) / a)"
      ],
      "execution_count": 27,
      "outputs": [
        {
          "output_type": "stream",
          "text": [
            "0.341682487387313 17.764939393631764\n",
            "Time to double: 2.0286295205239204\n"
          ],
          "name": "stdout"
        }
      ]
    },
    {
      "cell_type": "markdown",
      "metadata": {
        "id": "Ez0eBaW1saZq",
        "colab_type": "text"
      },
      "source": [
        "#Making Predictions"
      ]
    },
    {
      "cell_type": "code",
      "metadata": {
        "id": "E2oc3TTFsdPw",
        "colab_type": "code",
        "colab": {
          "base_uri": "https://localhost:8080/",
          "height": 282
        },
        "outputId": "61783567-0772-4908-8f91-a27446367a33"
      },
      "source": [
        "Yhat=model.predict(X).flatten()\n",
        "plt.scatter(X,Y)\n",
        "plt.plot(X,Yhat)"
      ],
      "execution_count": 30,
      "outputs": [
        {
          "output_type": "execute_result",
          "data": {
            "text/plain": [
              "[<matplotlib.lines.Line2D at 0x7f7c0834f5c0>]"
            ]
          },
          "metadata": {
            "tags": []
          },
          "execution_count": 30
        },
        {
          "output_type": "display_data",
          "data": {
            "image/png": "[encoded data removed]",
            "text/plain": [
              "<Figure size 432x288 with 1 Axes>"
            ]
          },
          "metadata": {
            "tags": [],
            "needs_background": "light"
          }
        }
      ]
    },
    {
      "cell_type": "code",
      "metadata": {
        "id": "_6pmDT9wtBfL",
        "colab_type": "code",
        "colab": {
          "base_uri": "https://localhost:8080/",
          "height": 34
        },
        "outputId": "3862960e-2671-4981-f192-9709cd3b526c"
      },
      "source": [
        "#Manual Calculation\n",
        "#get weights=\n",
        "w,b=model.layers[0].get_weights()\n",
        "X=X.reshape(-1,1)\n",
        "\n",
        "Yhat2=(X.dot(w)+b).flatten()\n",
        "\n",
        "np.allclose(Yhat,Yhat2)"
      ],
      "execution_count": 31,
      "outputs": [
        {
          "output_type": "execute_result",
          "data": {
            "text/plain": [
              "True"
            ]
          },
          "metadata": {
            "tags": []
          },
          "execution_count": 31
        }
      ]
    }
  ]
}