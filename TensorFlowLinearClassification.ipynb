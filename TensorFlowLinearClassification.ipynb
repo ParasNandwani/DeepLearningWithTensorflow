{
  "nbformat": 4,
  "nbformat_minor": 0,
  "metadata": {
    "colab": {
      "name": "TensorFlowLinearClassification.ipynb",
      "provenance": [],
      "toc_visible": true,
      "authorship_tag": "ABX9TyP/i4O1AztxDJ2mr9/V+Css",
      "include_colab_link": true
    },
    "kernelspec": {
      "name": "python3",
      "display_name": "Python 3"
    }
  },
  "cells": [
    {
      "cell_type": "markdown",
      "metadata": {
        "id": "view-in-github",
        "colab_type": "text"
      },
      "source": [
        "<a href=\"https://colab.research.google.com/github/ParasNandwani/DeepLearningWithTensorflow/blob/master/TensorFlowLinearClassification.ipynb\" target=\"_parent\"><img src=\"https://colab.research.google.com/assets/colab-badge.svg\" alt=\"Open In Colab\"/></a>"
      ]
    },
    {
      "cell_type": "code",
      "metadata": {
        "id": "x_1BxzpkmawF",
        "colab_type": "code",
        "colab": {}
      },
      "source": [
        "from sklearn.datasets import load_breast_cancer"
      ],
      "execution_count": 2,
      "outputs": []
    },
    {
      "cell_type": "code",
      "metadata": {
        "id": "gCZfcdXYnmMD",
        "colab_type": "code",
        "colab": {}
      },
      "source": [
        "data=load_breast_cancer()"
      ],
      "execution_count": 3,
      "outputs": []
    },
    {
      "cell_type": "code",
      "metadata": {
        "id": "55Qd1hC2nrXf",
        "colab_type": "code",
        "colab": {
          "base_uri": "https://localhost:8080/",
          "height": 34
        },
        "outputId": "27114aae-5239-445a-92b9-9b7be0cfb994"
      },
      "source": [
        "type(data)"
      ],
      "execution_count": 4,
      "outputs": [
        {
          "output_type": "execute_result",
          "data": {
            "text/plain": [
              "sklearn.utils.Bunch"
            ]
          },
          "metadata": {
            "tags": []
          },
          "execution_count": 4
        }
      ]
    },
    {
      "cell_type": "code",
      "metadata": {
        "id": "HQh607Hanvno",
        "colab_type": "code",
        "colab": {
          "base_uri": "https://localhost:8080/",
          "height": 34
        },
        "outputId": "d058b8da-479c-4b44-9716-c705068e9e74"
      },
      "source": [
        "data.keys()"
      ],
      "execution_count": 5,
      "outputs": [
        {
          "output_type": "execute_result",
          "data": {
            "text/plain": [
              "dict_keys(['data', 'target', 'target_names', 'DESCR', 'feature_names', 'filename'])"
            ]
          },
          "metadata": {
            "tags": []
          },
          "execution_count": 5
        }
      ]
    },
    {
      "cell_type": "code",
      "metadata": {
        "id": "3pohg-c4n5Nf",
        "colab_type": "code",
        "colab": {
          "base_uri": "https://localhost:8080/",
          "height": 238
        },
        "outputId": "c6f2ef6d-5d08-4a09-d7bb-85617528bffa"
      },
      "source": [
        "data.data"
      ],
      "execution_count": 7,
      "outputs": [
        {
          "output_type": "execute_result",
          "data": {
            "text/plain": [
              "array([[1.799e+01, 1.038e+01, 1.228e+02, ..., 2.654e-01, 4.601e-01,\n",
              "        1.189e-01],\n",
              "       [2.057e+01, 1.777e+01, 1.329e+02, ..., 1.860e-01, 2.750e-01,\n",
              "        8.902e-02],\n",
              "       [1.969e+01, 2.125e+01, 1.300e+02, ..., 2.430e-01, 3.613e-01,\n",
              "        8.758e-02],\n",
              "       ...,\n",
              "       [1.660e+01, 2.808e+01, 1.083e+02, ..., 1.418e-01, 2.218e-01,\n",
              "        7.820e-02],\n",
              "       [2.060e+01, 2.933e+01, 1.401e+02, ..., 2.650e-01, 4.087e-01,\n",
              "        1.240e-01],\n",
              "       [7.760e+00, 2.454e+01, 4.792e+01, ..., 0.000e+00, 2.871e-01,\n",
              "        7.039e-02]])"
            ]
          },
          "metadata": {
            "tags": []
          },
          "execution_count": 7
        }
      ]
    },
    {
      "cell_type": "code",
      "metadata": {
        "id": "2mmqn24urnEq",
        "colab_type": "code",
        "colab": {
          "base_uri": "https://localhost:8080/",
          "height": 459
        },
        "outputId": "50fe3d85-14da-4b74-fe64-f10f1dc6437f"
      },
      "source": [
        "data.target"
      ],
      "execution_count": 8,
      "outputs": [
        {
          "output_type": "execute_result",
          "data": {
            "text/plain": [
              "array([0, 0, 0, 0, 0, 0, 0, 0, 0, 0, 0, 0, 0, 0, 0, 0, 0, 0, 0, 1, 1, 1,\n",
              "       0, 0, 0, 0, 0, 0, 0, 0, 0, 0, 0, 0, 0, 0, 0, 1, 0, 0, 0, 0, 0, 0,\n",
              "       0, 0, 1, 0, 1, 1, 1, 1, 1, 0, 0, 1, 0, 0, 1, 1, 1, 1, 0, 1, 0, 0,\n",
              "       1, 1, 1, 1, 0, 1, 0, 0, 1, 0, 1, 0, 0, 1, 1, 1, 0, 0, 1, 0, 0, 0,\n",
              "       1, 1, 1, 0, 1, 1, 0, 0, 1, 1, 1, 0, 0, 1, 1, 1, 1, 0, 1, 1, 0, 1,\n",
              "       1, 1, 1, 1, 1, 1, 1, 0, 0, 0, 1, 0, 0, 1, 1, 1, 0, 0, 1, 0, 1, 0,\n",
              "       0, 1, 0, 0, 1, 1, 0, 1, 1, 0, 1, 1, 1, 1, 0, 1, 1, 1, 1, 1, 1, 1,\n",
              "       1, 1, 0, 1, 1, 1, 1, 0, 0, 1, 0, 1, 1, 0, 0, 1, 1, 0, 0, 1, 1, 1,\n",
              "       1, 0, 1, 1, 0, 0, 0, 1, 0, 1, 0, 1, 1, 1, 0, 1, 1, 0, 0, 1, 0, 0,\n",
              "       0, 0, 1, 0, 0, 0, 1, 0, 1, 0, 1, 1, 0, 1, 0, 0, 0, 0, 1, 1, 0, 0,\n",
              "       1, 1, 1, 0, 1, 1, 1, 1, 1, 0, 0, 1, 1, 0, 1, 1, 0, 0, 1, 0, 1, 1,\n",
              "       1, 1, 0, 1, 1, 1, 1, 1, 0, 1, 0, 0, 0, 0, 0, 0, 0, 0, 0, 0, 0, 0,\n",
              "       0, 0, 1, 1, 1, 1, 1, 1, 0, 1, 0, 1, 1, 0, 1, 1, 0, 1, 0, 0, 1, 1,\n",
              "       1, 1, 1, 1, 1, 1, 1, 1, 1, 1, 1, 0, 1, 1, 0, 1, 0, 1, 1, 1, 1, 1,\n",
              "       1, 1, 1, 1, 1, 1, 1, 1, 1, 0, 1, 1, 1, 0, 1, 0, 1, 1, 1, 1, 0, 0,\n",
              "       0, 1, 1, 1, 1, 0, 1, 0, 1, 0, 1, 1, 1, 0, 1, 1, 1, 1, 1, 1, 1, 0,\n",
              "       0, 0, 1, 1, 1, 1, 1, 1, 1, 1, 1, 1, 1, 0, 0, 1, 0, 0, 0, 1, 0, 0,\n",
              "       1, 1, 1, 1, 1, 0, 1, 1, 1, 1, 1, 0, 1, 1, 1, 0, 1, 1, 0, 0, 1, 1,\n",
              "       1, 1, 1, 1, 0, 1, 1, 1, 1, 1, 1, 1, 0, 1, 1, 1, 1, 1, 0, 1, 1, 0,\n",
              "       1, 1, 1, 1, 1, 1, 1, 1, 1, 1, 1, 1, 0, 1, 0, 0, 1, 0, 1, 1, 1, 1,\n",
              "       1, 0, 1, 1, 0, 1, 0, 1, 1, 0, 1, 0, 1, 1, 1, 1, 1, 1, 1, 1, 0, 0,\n",
              "       1, 1, 1, 1, 1, 1, 0, 1, 1, 1, 1, 1, 1, 1, 1, 1, 1, 0, 1, 1, 1, 1,\n",
              "       1, 1, 1, 0, 1, 0, 1, 1, 0, 1, 1, 1, 1, 1, 0, 0, 1, 0, 1, 0, 1, 1,\n",
              "       1, 1, 1, 0, 1, 1, 0, 1, 0, 1, 0, 0, 1, 1, 1, 0, 1, 1, 1, 1, 1, 1,\n",
              "       1, 1, 1, 1, 1, 0, 1, 0, 0, 1, 1, 1, 1, 1, 1, 1, 1, 1, 1, 1, 1, 1,\n",
              "       1, 1, 1, 1, 1, 1, 1, 1, 1, 1, 1, 1, 0, 0, 0, 0, 0, 0, 1])"
            ]
          },
          "metadata": {
            "tags": []
          },
          "execution_count": 8
        }
      ]
    },
    {
      "cell_type": "code",
      "metadata": {
        "id": "EV0QyT4nrx8f",
        "colab_type": "code",
        "colab": {
          "base_uri": "https://localhost:8080/",
          "height": 34
        },
        "outputId": "535d5af6-1182-428d-d1d1-aad7bf29a372"
      },
      "source": [
        "data.data.shape"
      ],
      "execution_count": 9,
      "outputs": [
        {
          "output_type": "execute_result",
          "data": {
            "text/plain": [
              "(569, 30)"
            ]
          },
          "metadata": {
            "tags": []
          },
          "execution_count": 9
        }
      ]
    },
    {
      "cell_type": "code",
      "metadata": {
        "id": "pi-drqTJr5kS",
        "colab_type": "code",
        "colab": {
          "base_uri": "https://localhost:8080/",
          "height": 34
        },
        "outputId": "2753a973-1e0a-467d-e54a-68a61c3c3c71"
      },
      "source": [
        "data.target_names "
      ],
      "execution_count": 10,
      "outputs": [
        {
          "output_type": "execute_result",
          "data": {
            "text/plain": [
              "array(['malignant', 'benign'], dtype='<U9')"
            ]
          },
          "metadata": {
            "tags": []
          },
          "execution_count": 10
        }
      ]
    },
    {
      "cell_type": "code",
      "metadata": {
        "id": "7JrDGYcrsC_8",
        "colab_type": "code",
        "colab": {
          "base_uri": "https://localhost:8080/",
          "height": 187
        },
        "outputId": "5a9d2d15-f28c-479f-d048-551ad2ba633a"
      },
      "source": [
        "data.feature_names"
      ],
      "execution_count": 11,
      "outputs": [
        {
          "output_type": "execute_result",
          "data": {
            "text/plain": [
              "array(['mean radius', 'mean texture', 'mean perimeter', 'mean area',\n",
              "       'mean smoothness', 'mean compactness', 'mean concavity',\n",
              "       'mean concave points', 'mean symmetry', 'mean fractal dimension',\n",
              "       'radius error', 'texture error', 'perimeter error', 'area error',\n",
              "       'smoothness error', 'compactness error', 'concavity error',\n",
              "       'concave points error', 'symmetry error',\n",
              "       'fractal dimension error', 'worst radius', 'worst texture',\n",
              "       'worst perimeter', 'worst area', 'worst smoothness',\n",
              "       'worst compactness', 'worst concavity', 'worst concave points',\n",
              "       'worst symmetry', 'worst fractal dimension'], dtype='<U23')"
            ]
          },
          "metadata": {
            "tags": []
          },
          "execution_count": 11
        }
      ]
    },
    {
      "cell_type": "code",
      "metadata": {
        "id": "MkRVuL_osMk4",
        "colab_type": "code",
        "colab": {}
      },
      "source": [
        "from sklearn.model_selection import train_test_split\n",
        "X_train,X_test,Y_train,Y_test=train_test_split(data.data,data.target,test_size=0.33)"
      ],
      "execution_count": 12,
      "outputs": []
    },
    {
      "cell_type": "code",
      "metadata": {
        "id": "OaiqEsvas7QF",
        "colab_type": "code",
        "colab": {
          "base_uri": "https://localhost:8080/",
          "height": 85
        },
        "outputId": "3d73c50b-39d7-4151-e172-2190d70e150e"
      },
      "source": [
        "print(X_train.shape)\n",
        "print(Y_train.shape)\n",
        "print(X_test.shape)\n",
        "print(Y_test.shape)"
      ],
      "execution_count": 14,
      "outputs": [
        {
          "output_type": "stream",
          "text": [
            "(381, 30)\n",
            "(381,)\n",
            "(188, 30)\n",
            "(188,)\n"
          ],
          "name": "stdout"
        }
      ]
    },
    {
      "cell_type": "code",
      "metadata": {
        "id": "96xZNvyjvR8A",
        "colab_type": "code",
        "colab": {}
      },
      "source": [
        "N,D=X_train.shape"
      ],
      "execution_count": 15,
      "outputs": []
    },
    {
      "cell_type": "code",
      "metadata": {
        "id": "TUBQv8BKvPb4",
        "colab_type": "code",
        "colab": {}
      },
      "source": [
        "from sklearn.preprocessing import StandardScaler\n",
        "scaler=StandardScaler()\n",
        "X_train=scaler.fit_transform(X_train)\n",
        "X_test=scaler.transform(X_test)"
      ],
      "execution_count": 16,
      "outputs": []
    },
    {
      "cell_type": "code",
      "metadata": {
        "id": "EHlKtUt3v8K1",
        "colab_type": "code",
        "colab": {}
      },
      "source": [
        "import tensorflow as tf"
      ],
      "execution_count": 18,
      "outputs": []
    },
    {
      "cell_type": "code",
      "metadata": {
        "id": "ULZ6vI0jv8Do",
        "colab_type": "code",
        "colab": {}
      },
      "source": [
        "#Sequential groups a linear stack of layers into a tf.keras.Model.\n",
        "model=tf.keras.Sequential([\n",
        "                           tf.keras.layers.Input(shape=(D,)),\n",
        "                           tf.keras.layers.Dense(1,activation='sigmoid')])\n",
        "# Alternatively, we can do:\n",
        "# model = tf.keras.models.Sequential()\n",
        "# model.add(tf.keras.layers.Dense(1, input_shape=(D,), activation='sigmoid'))"
      ],
      "execution_count": 20,
      "outputs": []
    },
    {
      "cell_type": "code",
      "metadata": {
        "id": "SE1P0bfayEg5",
        "colab_type": "code",
        "colab": {}
      },
      "source": [
        "#Configures the model for training.\n",
        "model.compile(optimizer='adam',\n",
        "              loss='binary_crossentropy',\n",
        "              metrics=['accuracy']\n",
        "    )"
      ],
      "execution_count": 21,
      "outputs": []
    },
    {
      "cell_type": "code",
      "metadata": {
        "id": "3XrRN1VpynRT",
        "colab_type": "code",
        "colab": {
          "base_uri": "https://localhost:8080/",
          "height": 1000
        },
        "outputId": "f35d7f50-e167-4481-e21d-4f2177203f85"
      },
      "source": [
        "r=model.fit(X_train,Y_train,validation_data=(X_test,Y_test),epochs=100)"
      ],
      "execution_count": 22,
      "outputs": [
        {
          "output_type": "stream",
          "text": [
            "Epoch 1/100\n",
            "12/12 [==============================] - 0s 15ms/step - loss: 1.6869 - accuracy: 0.1969 - val_loss: 1.8258 - val_accuracy: 0.1543\n",
            "Epoch 2/100\n",
            "12/12 [==============================] - 0s 4ms/step - loss: 1.5702 - accuracy: 0.2231 - val_loss: 1.6901 - val_accuracy: 0.1862\n",
            "Epoch 3/100\n",
            "12/12 [==============================] - 0s 4ms/step - loss: 1.4579 - accuracy: 0.2520 - val_loss: 1.5615 - val_accuracy: 0.2340\n",
            "Epoch 4/100\n",
            "12/12 [==============================] - 0s 4ms/step - loss: 1.3498 - accuracy: 0.2861 - val_loss: 1.4421 - val_accuracy: 0.2500\n",
            "Epoch 5/100\n",
            "12/12 [==============================] - 0s 4ms/step - loss: 1.2551 - accuracy: 0.3255 - val_loss: 1.3260 - val_accuracy: 0.3032\n",
            "Epoch 6/100\n",
            "12/12 [==============================] - 0s 4ms/step - loss: 1.1630 - accuracy: 0.3701 - val_loss: 1.2203 - val_accuracy: 0.3245\n",
            "Epoch 7/100\n",
            "12/12 [==============================] - 0s 4ms/step - loss: 1.0787 - accuracy: 0.4173 - val_loss: 1.1238 - val_accuracy: 0.3617\n",
            "Epoch 8/100\n",
            "12/12 [==============================] - 0s 4ms/step - loss: 1.0004 - accuracy: 0.4567 - val_loss: 1.0376 - val_accuracy: 0.4149\n",
            "Epoch 9/100\n",
            "12/12 [==============================] - 0s 4ms/step - loss: 0.9339 - accuracy: 0.4987 - val_loss: 0.9545 - val_accuracy: 0.4574\n",
            "Epoch 10/100\n",
            "12/12 [==============================] - 0s 4ms/step - loss: 0.8699 - accuracy: 0.5249 - val_loss: 0.8803 - val_accuracy: 0.4840\n",
            "Epoch 11/100\n",
            "12/12 [==============================] - 0s 4ms/step - loss: 0.8115 - accuracy: 0.5643 - val_loss: 0.8145 - val_accuracy: 0.5266\n",
            "Epoch 12/100\n",
            "12/12 [==============================] - 0s 4ms/step - loss: 0.7608 - accuracy: 0.6010 - val_loss: 0.7538 - val_accuracy: 0.5638\n",
            "Epoch 13/100\n",
            "12/12 [==============================] - 0s 4ms/step - loss: 0.7135 - accuracy: 0.6273 - val_loss: 0.7003 - val_accuracy: 0.5957\n",
            "Epoch 14/100\n",
            "12/12 [==============================] - 0s 4ms/step - loss: 0.6707 - accuracy: 0.6588 - val_loss: 0.6531 - val_accuracy: 0.6489\n",
            "Epoch 15/100\n",
            "12/12 [==============================] - 0s 4ms/step - loss: 0.6321 - accuracy: 0.7034 - val_loss: 0.6114 - val_accuracy: 0.6755\n",
            "Epoch 16/100\n",
            "12/12 [==============================] - 0s 4ms/step - loss: 0.5985 - accuracy: 0.7244 - val_loss: 0.5730 - val_accuracy: 0.6968\n",
            "Epoch 17/100\n",
            "12/12 [==============================] - 0s 4ms/step - loss: 0.5668 - accuracy: 0.7454 - val_loss: 0.5393 - val_accuracy: 0.7234\n",
            "Epoch 18/100\n",
            "12/12 [==============================] - 0s 4ms/step - loss: 0.5379 - accuracy: 0.7533 - val_loss: 0.5092 - val_accuracy: 0.7500\n",
            "Epoch 19/100\n",
            "12/12 [==============================] - 0s 4ms/step - loss: 0.5127 - accuracy: 0.7717 - val_loss: 0.4813 - val_accuracy: 0.7606\n",
            "Epoch 20/100\n",
            "12/12 [==============================] - 0s 4ms/step - loss: 0.4889 - accuracy: 0.7927 - val_loss: 0.4565 - val_accuracy: 0.7713\n",
            "Epoch 21/100\n",
            "12/12 [==============================] - 0s 4ms/step - loss: 0.4672 - accuracy: 0.8110 - val_loss: 0.4338 - val_accuracy: 0.8138\n",
            "Epoch 22/100\n",
            "12/12 [==============================] - 0s 4ms/step - loss: 0.4476 - accuracy: 0.8189 - val_loss: 0.4131 - val_accuracy: 0.8404\n",
            "Epoch 23/100\n",
            "12/12 [==============================] - 0s 4ms/step - loss: 0.4293 - accuracy: 0.8268 - val_loss: 0.3940 - val_accuracy: 0.8617\n",
            "Epoch 24/100\n",
            "12/12 [==============================] - 0s 4ms/step - loss: 0.4125 - accuracy: 0.8320 - val_loss: 0.3766 - val_accuracy: 0.8830\n",
            "Epoch 25/100\n",
            "12/12 [==============================] - 0s 4ms/step - loss: 0.3970 - accuracy: 0.8373 - val_loss: 0.3605 - val_accuracy: 0.8830\n",
            "Epoch 26/100\n",
            "12/12 [==============================] - 0s 4ms/step - loss: 0.3828 - accuracy: 0.8425 - val_loss: 0.3454 - val_accuracy: 0.8989\n",
            "Epoch 27/100\n",
            "12/12 [==============================] - 0s 4ms/step - loss: 0.3689 - accuracy: 0.8530 - val_loss: 0.3321 - val_accuracy: 0.9096\n",
            "Epoch 28/100\n",
            "12/12 [==============================] - 0s 4ms/step - loss: 0.3572 - accuracy: 0.8688 - val_loss: 0.3195 - val_accuracy: 0.9255\n",
            "Epoch 29/100\n",
            "12/12 [==============================] - 0s 4ms/step - loss: 0.3452 - accuracy: 0.8950 - val_loss: 0.3076 - val_accuracy: 0.9255\n",
            "Epoch 30/100\n",
            "12/12 [==============================] - 0s 4ms/step - loss: 0.3348 - accuracy: 0.9029 - val_loss: 0.2964 - val_accuracy: 0.9309\n",
            "Epoch 31/100\n",
            "12/12 [==============================] - 0s 4ms/step - loss: 0.3242 - accuracy: 0.9029 - val_loss: 0.2864 - val_accuracy: 0.9309\n",
            "Epoch 32/100\n",
            "12/12 [==============================] - 0s 4ms/step - loss: 0.3149 - accuracy: 0.9134 - val_loss: 0.2770 - val_accuracy: 0.9362\n",
            "Epoch 33/100\n",
            "12/12 [==============================] - 0s 4ms/step - loss: 0.3061 - accuracy: 0.9186 - val_loss: 0.2680 - val_accuracy: 0.9468\n",
            "Epoch 34/100\n",
            "12/12 [==============================] - 0s 4ms/step - loss: 0.2978 - accuracy: 0.9265 - val_loss: 0.2597 - val_accuracy: 0.9468\n",
            "Epoch 35/100\n",
            "12/12 [==============================] - 0s 4ms/step - loss: 0.2898 - accuracy: 0.9291 - val_loss: 0.2520 - val_accuracy: 0.9521\n",
            "Epoch 36/100\n",
            "12/12 [==============================] - 0s 4ms/step - loss: 0.2829 - accuracy: 0.9344 - val_loss: 0.2446 - val_accuracy: 0.9521\n",
            "Epoch 37/100\n",
            "12/12 [==============================] - 0s 4ms/step - loss: 0.2756 - accuracy: 0.9344 - val_loss: 0.2377 - val_accuracy: 0.9521\n",
            "Epoch 38/100\n",
            "12/12 [==============================] - 0s 4ms/step - loss: 0.2694 - accuracy: 0.9370 - val_loss: 0.2312 - val_accuracy: 0.9521\n",
            "Epoch 39/100\n",
            "12/12 [==============================] - 0s 4ms/step - loss: 0.2629 - accuracy: 0.9396 - val_loss: 0.2252 - val_accuracy: 0.9521\n",
            "Epoch 40/100\n",
            "12/12 [==============================] - 0s 4ms/step - loss: 0.2572 - accuracy: 0.9396 - val_loss: 0.2194 - val_accuracy: 0.9521\n",
            "Epoch 41/100\n",
            "12/12 [==============================] - 0s 4ms/step - loss: 0.2517 - accuracy: 0.9396 - val_loss: 0.2139 - val_accuracy: 0.9521\n",
            "Epoch 42/100\n",
            "12/12 [==============================] - 0s 4ms/step - loss: 0.2466 - accuracy: 0.9396 - val_loss: 0.2087 - val_accuracy: 0.9521\n",
            "Epoch 43/100\n",
            "12/12 [==============================] - 0s 4ms/step - loss: 0.2414 - accuracy: 0.9423 - val_loss: 0.2040 - val_accuracy: 0.9521\n",
            "Epoch 44/100\n",
            "12/12 [==============================] - 0s 4ms/step - loss: 0.2369 - accuracy: 0.9423 - val_loss: 0.1993 - val_accuracy: 0.9574\n",
            "Epoch 45/100\n",
            "12/12 [==============================] - 0s 4ms/step - loss: 0.2323 - accuracy: 0.9423 - val_loss: 0.1948 - val_accuracy: 0.9574\n",
            "Epoch 46/100\n",
            "12/12 [==============================] - 0s 4ms/step - loss: 0.2279 - accuracy: 0.9475 - val_loss: 0.1906 - val_accuracy: 0.9574\n",
            "Epoch 47/100\n",
            "12/12 [==============================] - 0s 4ms/step - loss: 0.2238 - accuracy: 0.9475 - val_loss: 0.1867 - val_accuracy: 0.9628\n",
            "Epoch 48/100\n",
            "12/12 [==============================] - 0s 4ms/step - loss: 0.2199 - accuracy: 0.9475 - val_loss: 0.1829 - val_accuracy: 0.9628\n",
            "Epoch 49/100\n",
            "12/12 [==============================] - 0s 4ms/step - loss: 0.2162 - accuracy: 0.9475 - val_loss: 0.1793 - val_accuracy: 0.9628\n",
            "Epoch 50/100\n",
            "12/12 [==============================] - 0s 4ms/step - loss: 0.2125 - accuracy: 0.9475 - val_loss: 0.1759 - val_accuracy: 0.9628\n",
            "Epoch 51/100\n",
            "12/12 [==============================] - 0s 4ms/step - loss: 0.2091 - accuracy: 0.9475 - val_loss: 0.1726 - val_accuracy: 0.9628\n",
            "Epoch 52/100\n",
            "12/12 [==============================] - 0s 4ms/step - loss: 0.2059 - accuracy: 0.9475 - val_loss: 0.1694 - val_accuracy: 0.9628\n",
            "Epoch 53/100\n",
            "12/12 [==============================] - 0s 4ms/step - loss: 0.2027 - accuracy: 0.9475 - val_loss: 0.1663 - val_accuracy: 0.9628\n",
            "Epoch 54/100\n",
            "12/12 [==============================] - 0s 4ms/step - loss: 0.1996 - accuracy: 0.9501 - val_loss: 0.1634 - val_accuracy: 0.9628\n",
            "Epoch 55/100\n",
            "12/12 [==============================] - 0s 4ms/step - loss: 0.1967 - accuracy: 0.9501 - val_loss: 0.1607 - val_accuracy: 0.9681\n",
            "Epoch 56/100\n",
            "12/12 [==============================] - 0s 4ms/step - loss: 0.1940 - accuracy: 0.9528 - val_loss: 0.1580 - val_accuracy: 0.9681\n",
            "Epoch 57/100\n",
            "12/12 [==============================] - 0s 5ms/step - loss: 0.1911 - accuracy: 0.9528 - val_loss: 0.1554 - val_accuracy: 0.9681\n",
            "Epoch 58/100\n",
            "12/12 [==============================] - 0s 4ms/step - loss: 0.1885 - accuracy: 0.9528 - val_loss: 0.1530 - val_accuracy: 0.9787\n",
            "Epoch 59/100\n",
            "12/12 [==============================] - 0s 4ms/step - loss: 0.1862 - accuracy: 0.9528 - val_loss: 0.1506 - val_accuracy: 0.9787\n",
            "Epoch 60/100\n",
            "12/12 [==============================] - 0s 4ms/step - loss: 0.1836 - accuracy: 0.9528 - val_loss: 0.1484 - val_accuracy: 0.9787\n",
            "Epoch 61/100\n",
            "12/12 [==============================] - 0s 5ms/step - loss: 0.1813 - accuracy: 0.9528 - val_loss: 0.1462 - val_accuracy: 0.9787\n",
            "Epoch 62/100\n",
            "12/12 [==============================] - 0s 4ms/step - loss: 0.1791 - accuracy: 0.9554 - val_loss: 0.1440 - val_accuracy: 0.9787\n",
            "Epoch 63/100\n",
            "12/12 [==============================] - 0s 4ms/step - loss: 0.1769 - accuracy: 0.9554 - val_loss: 0.1421 - val_accuracy: 0.9840\n",
            "Epoch 64/100\n",
            "12/12 [==============================] - 0s 4ms/step - loss: 0.1747 - accuracy: 0.9554 - val_loss: 0.1401 - val_accuracy: 0.9840\n",
            "Epoch 65/100\n",
            "12/12 [==============================] - 0s 4ms/step - loss: 0.1727 - accuracy: 0.9554 - val_loss: 0.1381 - val_accuracy: 0.9840\n",
            "Epoch 66/100\n",
            "12/12 [==============================] - 0s 4ms/step - loss: 0.1708 - accuracy: 0.9554 - val_loss: 0.1364 - val_accuracy: 0.9840\n",
            "Epoch 67/100\n",
            "12/12 [==============================] - 0s 4ms/step - loss: 0.1687 - accuracy: 0.9554 - val_loss: 0.1346 - val_accuracy: 0.9840\n",
            "Epoch 68/100\n",
            "12/12 [==============================] - 0s 4ms/step - loss: 0.1669 - accuracy: 0.9580 - val_loss: 0.1329 - val_accuracy: 0.9840\n",
            "Epoch 69/100\n",
            "12/12 [==============================] - 0s 4ms/step - loss: 0.1651 - accuracy: 0.9606 - val_loss: 0.1312 - val_accuracy: 0.9840\n",
            "Epoch 70/100\n",
            "12/12 [==============================] - 0s 4ms/step - loss: 0.1633 - accuracy: 0.9606 - val_loss: 0.1297 - val_accuracy: 0.9840\n",
            "Epoch 71/100\n",
            "12/12 [==============================] - 0s 4ms/step - loss: 0.1615 - accuracy: 0.9606 - val_loss: 0.1281 - val_accuracy: 0.9840\n",
            "Epoch 72/100\n",
            "12/12 [==============================] - 0s 4ms/step - loss: 0.1599 - accuracy: 0.9606 - val_loss: 0.1266 - val_accuracy: 0.9840\n",
            "Epoch 73/100\n",
            "12/12 [==============================] - 0s 4ms/step - loss: 0.1583 - accuracy: 0.9606 - val_loss: 0.1251 - val_accuracy: 0.9840\n",
            "Epoch 74/100\n",
            "12/12 [==============================] - 0s 4ms/step - loss: 0.1567 - accuracy: 0.9633 - val_loss: 0.1237 - val_accuracy: 0.9840\n",
            "Epoch 75/100\n",
            "12/12 [==============================] - 0s 4ms/step - loss: 0.1551 - accuracy: 0.9685 - val_loss: 0.1224 - val_accuracy: 0.9840\n",
            "Epoch 76/100\n",
            "12/12 [==============================] - 0s 4ms/step - loss: 0.1537 - accuracy: 0.9685 - val_loss: 0.1211 - val_accuracy: 0.9840\n",
            "Epoch 77/100\n",
            "12/12 [==============================] - 0s 4ms/step - loss: 0.1522 - accuracy: 0.9685 - val_loss: 0.1198 - val_accuracy: 0.9840\n",
            "Epoch 78/100\n",
            "12/12 [==============================] - 0s 4ms/step - loss: 0.1508 - accuracy: 0.9685 - val_loss: 0.1185 - val_accuracy: 0.9840\n",
            "Epoch 79/100\n",
            "12/12 [==============================] - 0s 4ms/step - loss: 0.1495 - accuracy: 0.9685 - val_loss: 0.1173 - val_accuracy: 0.9840\n",
            "Epoch 80/100\n",
            "12/12 [==============================] - 0s 4ms/step - loss: 0.1481 - accuracy: 0.9685 - val_loss: 0.1162 - val_accuracy: 0.9840\n",
            "Epoch 81/100\n",
            "12/12 [==============================] - 0s 4ms/step - loss: 0.1469 - accuracy: 0.9685 - val_loss: 0.1150 - val_accuracy: 0.9840\n",
            "Epoch 82/100\n",
            "12/12 [==============================] - 0s 4ms/step - loss: 0.1455 - accuracy: 0.9685 - val_loss: 0.1139 - val_accuracy: 0.9840\n",
            "Epoch 83/100\n",
            "12/12 [==============================] - 0s 4ms/step - loss: 0.1445 - accuracy: 0.9685 - val_loss: 0.1128 - val_accuracy: 0.9840\n",
            "Epoch 84/100\n",
            "12/12 [==============================] - 0s 4ms/step - loss: 0.1432 - accuracy: 0.9685 - val_loss: 0.1118 - val_accuracy: 0.9840\n",
            "Epoch 85/100\n",
            "12/12 [==============================] - 0s 4ms/step - loss: 0.1420 - accuracy: 0.9685 - val_loss: 0.1107 - val_accuracy: 0.9840\n",
            "Epoch 86/100\n",
            "12/12 [==============================] - 0s 4ms/step - loss: 0.1409 - accuracy: 0.9685 - val_loss: 0.1097 - val_accuracy: 0.9840\n",
            "Epoch 87/100\n",
            "12/12 [==============================] - 0s 4ms/step - loss: 0.1397 - accuracy: 0.9685 - val_loss: 0.1087 - val_accuracy: 0.9840\n",
            "Epoch 88/100\n",
            "12/12 [==============================] - 0s 4ms/step - loss: 0.1387 - accuracy: 0.9711 - val_loss: 0.1078 - val_accuracy: 0.9840\n",
            "Epoch 89/100\n",
            "12/12 [==============================] - 0s 4ms/step - loss: 0.1376 - accuracy: 0.9711 - val_loss: 0.1068 - val_accuracy: 0.9840\n",
            "Epoch 90/100\n",
            "12/12 [==============================] - 0s 4ms/step - loss: 0.1366 - accuracy: 0.9711 - val_loss: 0.1059 - val_accuracy: 0.9840\n",
            "Epoch 91/100\n",
            "12/12 [==============================] - 0s 4ms/step - loss: 0.1355 - accuracy: 0.9711 - val_loss: 0.1051 - val_accuracy: 0.9840\n",
            "Epoch 92/100\n",
            "12/12 [==============================] - 0s 4ms/step - loss: 0.1346 - accuracy: 0.9711 - val_loss: 0.1043 - val_accuracy: 0.9840\n",
            "Epoch 93/100\n",
            "12/12 [==============================] - 0s 4ms/step - loss: 0.1337 - accuracy: 0.9711 - val_loss: 0.1033 - val_accuracy: 0.9840\n",
            "Epoch 94/100\n",
            "12/12 [==============================] - 0s 4ms/step - loss: 0.1327 - accuracy: 0.9711 - val_loss: 0.1026 - val_accuracy: 0.9840\n",
            "Epoch 95/100\n",
            "12/12 [==============================] - 0s 4ms/step - loss: 0.1318 - accuracy: 0.9711 - val_loss: 0.1018 - val_accuracy: 0.9840\n",
            "Epoch 96/100\n",
            "12/12 [==============================] - 0s 4ms/step - loss: 0.1310 - accuracy: 0.9711 - val_loss: 0.1010 - val_accuracy: 0.9840\n",
            "Epoch 97/100\n",
            "12/12 [==============================] - 0s 4ms/step - loss: 0.1301 - accuracy: 0.9685 - val_loss: 0.1002 - val_accuracy: 0.9840\n",
            "Epoch 98/100\n",
            "12/12 [==============================] - 0s 4ms/step - loss: 0.1292 - accuracy: 0.9685 - val_loss: 0.0995 - val_accuracy: 0.9840\n",
            "Epoch 99/100\n",
            "12/12 [==============================] - 0s 4ms/step - loss: 0.1284 - accuracy: 0.9685 - val_loss: 0.0987 - val_accuracy: 0.9840\n",
            "Epoch 100/100\n",
            "12/12 [==============================] - 0s 4ms/step - loss: 0.1276 - accuracy: 0.9685 - val_loss: 0.0981 - val_accuracy: 0.9840\n"
          ],
          "name": "stdout"
        }
      ]
    },
    {
      "cell_type": "code",
      "metadata": {
        "id": "78sorl0ezD4g",
        "colab_type": "code",
        "colab": {
          "base_uri": "https://localhost:8080/",
          "height": 85
        },
        "outputId": "77dddf55-2451-4048-eef7-49b963278c17"
      },
      "source": [
        "#Evaluate model\n",
        "print(\"Train Score\",model.evaluate(X_train,Y_train))\n",
        "print(\"Test Score\",model.evaluate(X_test,Y_test))"
      ],
      "execution_count": 23,
      "outputs": [
        {
          "output_type": "stream",
          "text": [
            "12/12 [==============================] - 0s 1ms/step - loss: 0.1271 - accuracy: 0.9685\n",
            "Train Score [0.12713658809661865, 0.9685039520263672]\n",
            "6/6 [==============================] - 0s 1ms/step - loss: 0.0981 - accuracy: 0.9840\n",
            "Test Score [0.09806977212429047, 0.9840425252914429]\n"
          ],
          "name": "stdout"
        }
      ]
    },
    {
      "cell_type": "code",
      "metadata": {
        "id": "TWG4Vvgd4pU9",
        "colab_type": "code",
        "colab": {
          "base_uri": "https://localhost:8080/",
          "height": 282
        },
        "outputId": "f5296a70-76ee-47f9-9692-e75dffe0e8c6"
      },
      "source": [
        "#Plot what returned by model\n",
        "import matplotlib.pyplot as plt\n",
        "plt.plot(r.history['loss'],label='loss')\n",
        "plt.plot(r.history['val_loss'],label='validation_loss')\n",
        "plt.legend()"
      ],
      "execution_count": 25,
      "outputs": [
        {
          "output_type": "execute_result",
          "data": {
            "text/plain": [
              "<matplotlib.legend.Legend at 0x7f69c60ed2e8>"
            ]
          },
          "metadata": {
            "tags": []
          },
          "execution_count": 25
        },
        {
          "output_type": "display_data",
          "data": {
            "image/png": "[encoded data removed]",
            "text/plain": [
              "<Figure size 432x288 with 1 Axes>"
            ]
          },
          "metadata": {
            "tags": [],
            "needs_background": "light"
          }
        }
      ]
    },
    {
      "cell_type": "code",
      "metadata": {
        "id": "xZqtPxbv6IhO",
        "colab_type": "code",
        "colab": {
          "base_uri": "https://localhost:8080/",
          "height": 282
        },
        "outputId": "b5848e94-98cb-4d51-a13b-064c6a0d8a53"
      },
      "source": [
        "plt.plot(r.history['accuracy'],label='acc')\n",
        "plt.plot(r.history['val_accuracy'],label='acc')\n",
        "plt.legend()"
      ],
      "execution_count": 26,
      "outputs": [
        {
          "output_type": "execute_result",
          "data": {
            "text/plain": [
              "<matplotlib.legend.Legend at 0x7f69c7ad5128>"
            ]
          },
          "metadata": {
            "tags": []
          },
          "execution_count": 26
        },
        {
          "output_type": "display_data",
          "data": {
            "image/png": "[encoded data removed]",
            "text/plain": [
              "<Figure size 432x288 with 1 Axes>"
            ]
          },
          "metadata": {
            "tags": [],
            "needs_background": "light"
          }
        }
      ]
    },
    {
      "cell_type": "markdown",
      "metadata": {
        "id": "iVcQVsVajJKG",
        "colab_type": "text"
      },
      "source": [
        "# Model Predictions "
      ]
    },
    {
      "cell_type": "code",
      "metadata": {
        "id": "7yxtE3OW6b3i",
        "colab_type": "code",
        "colab": {}
      },
      "source": [
        "p=model.predict(X_test)"
      ],
      "execution_count": 27,
      "outputs": []
    },
    {
      "cell_type": "code",
      "metadata": {
        "id": "tgb70X3SjWKM",
        "colab_type": "code",
        "colab": {
          "base_uri": "https://localhost:8080/",
          "height": 1000
        },
        "outputId": "be085f35-e63f-4e89-eeda-c98130bef815"
      },
      "source": [
        "print(p)"
      ],
      "execution_count": 28,
      "outputs": [
        {
          "output_type": "stream",
          "text": [
            "[[9.08822775e-01]\n",
            " [9.68196273e-01]\n",
            " [4.33817208e-02]\n",
            " [2.05857754e-02]\n",
            " [9.25979018e-01]\n",
            " [9.76439536e-01]\n",
            " [8.01849365e-01]\n",
            " [5.64990461e-01]\n",
            " [8.59593630e-01]\n",
            " [9.64803278e-01]\n",
            " [9.98911738e-01]\n",
            " [4.31387343e-05]\n",
            " [7.19930828e-01]\n",
            " [8.99956226e-01]\n",
            " [1.17120147e-02]\n",
            " [9.92132246e-01]\n",
            " [4.34522778e-01]\n",
            " [9.77401316e-01]\n",
            " [9.43988085e-01]\n",
            " [7.17246830e-02]\n",
            " [9.83320951e-01]\n",
            " [1.01162046e-01]\n",
            " [9.62904453e-01]\n",
            " [3.73158038e-01]\n",
            " [1.72552466e-03]\n",
            " [4.67950433e-01]\n",
            " [9.11143661e-01]\n",
            " [9.78471935e-01]\n",
            " [6.52581453e-04]\n",
            " [4.47679371e-01]\n",
            " [9.72687900e-01]\n",
            " [9.58465159e-01]\n",
            " [9.71764326e-04]\n",
            " [8.81594241e-01]\n",
            " [9.61533546e-01]\n",
            " [6.71652913e-01]\n",
            " [9.63220477e-01]\n",
            " [1.31071538e-01]\n",
            " [9.61122394e-01]\n",
            " [2.65095770e-01]\n",
            " [2.89687723e-05]\n",
            " [9.51552749e-01]\n",
            " [3.68953049e-02]\n",
            " [9.73690152e-01]\n",
            " [8.63410711e-01]\n",
            " [2.29408741e-01]\n",
            " [7.10602343e-01]\n",
            " [1.90029740e-02]\n",
            " [9.49704289e-01]\n",
            " [8.57199775e-05]\n",
            " [7.21976757e-01]\n",
            " [8.41355562e-01]\n",
            " [9.97761905e-01]\n",
            " [9.22173381e-01]\n",
            " [9.62117076e-01]\n",
            " [9.89516795e-01]\n",
            " [3.23804915e-02]\n",
            " [9.83813763e-01]\n",
            " [1.13861170e-05]\n",
            " [9.37328339e-01]\n",
            " [9.92208004e-01]\n",
            " [9.84960914e-01]\n",
            " [9.40182567e-01]\n",
            " [8.72648239e-01]\n",
            " [6.99102879e-04]\n",
            " [2.53778696e-03]\n",
            " [8.82934451e-01]\n",
            " [2.97021866e-03]\n",
            " [6.61862791e-01]\n",
            " [7.88797843e-06]\n",
            " [3.13341320e-02]\n",
            " [9.66637850e-01]\n",
            " [9.84271526e-01]\n",
            " [9.98382807e-01]\n",
            " [9.55550611e-01]\n",
            " [9.87013996e-01]\n",
            " [6.89795375e-01]\n",
            " [9.87990856e-01]\n",
            " [5.97150922e-02]\n",
            " [9.71889138e-01]\n",
            " [8.71784568e-01]\n",
            " [8.43936205e-03]\n",
            " [9.96770859e-01]\n",
            " [9.86078024e-01]\n",
            " [9.89139915e-01]\n",
            " [1.63624287e-02]\n",
            " [3.61502171e-03]\n",
            " [4.04179627e-06]\n",
            " [2.98231840e-04]\n",
            " [5.59461117e-03]\n",
            " [2.77228653e-02]\n",
            " [9.03074563e-01]\n",
            " [9.20293808e-01]\n",
            " [9.76224244e-01]\n",
            " [7.31713831e-01]\n",
            " [9.87926543e-01]\n",
            " [1.63227320e-03]\n",
            " [9.77910638e-01]\n",
            " [9.56222594e-01]\n",
            " [3.43859196e-04]\n",
            " [8.38570952e-01]\n",
            " [9.95952487e-01]\n",
            " [8.50542426e-01]\n",
            " [8.82577360e-01]\n",
            " [1.49234653e-01]\n",
            " [9.63474393e-01]\n",
            " [5.15482426e-02]\n",
            " [8.34562778e-01]\n",
            " [2.19672918e-03]\n",
            " [2.22474486e-01]\n",
            " [9.92974281e-01]\n",
            " [8.74972701e-01]\n",
            " [8.16494226e-04]\n",
            " [4.20383781e-01]\n",
            " [2.82049179e-04]\n",
            " [9.65031981e-01]\n",
            " [2.36471057e-01]\n",
            " [5.25926948e-02]\n",
            " [9.93466020e-01]\n",
            " [9.63348150e-01]\n",
            " [5.89499474e-02]\n",
            " [9.69547153e-01]\n",
            " [7.84781277e-01]\n",
            " [9.63012457e-01]\n",
            " [2.06917524e-04]\n",
            " [8.65877867e-01]\n",
            " [9.95072722e-01]\n",
            " [4.31985617e-01]\n",
            " [9.81554985e-01]\n",
            " [9.88911748e-01]\n",
            " [9.99957323e-04]\n",
            " [8.47869039e-01]\n",
            " [9.75312591e-01]\n",
            " [9.60525155e-01]\n",
            " [9.81665730e-01]\n",
            " [9.81163025e-01]\n",
            " [9.19616818e-01]\n",
            " [1.44436955e-03]\n",
            " [9.84527588e-01]\n",
            " [9.88383651e-01]\n",
            " [9.96739388e-01]\n",
            " [9.99027491e-01]\n",
            " [9.83821511e-01]\n",
            " [9.69736457e-01]\n",
            " [8.80838037e-01]\n",
            " [9.74028349e-01]\n",
            " [9.97987866e-01]\n",
            " [2.33057141e-03]\n",
            " [9.80760992e-01]\n",
            " [9.97701228e-01]\n",
            " [9.07703757e-01]\n",
            " [9.93755281e-01]\n",
            " [2.39014626e-04]\n",
            " [9.85642791e-01]\n",
            " [9.81119394e-01]\n",
            " [1.35535747e-01]\n",
            " [1.61940515e-01]\n",
            " [9.84243929e-01]\n",
            " [9.12294984e-01]\n",
            " [5.56677878e-02]\n",
            " [9.47113991e-01]\n",
            " [4.00143862e-03]\n",
            " [1.41514129e-05]\n",
            " [8.79955860e-06]\n",
            " [9.92547035e-01]\n",
            " [8.89200211e-01]\n",
            " [8.64837885e-01]\n",
            " [9.93509531e-01]\n",
            " [8.19557905e-03]\n",
            " [9.86064911e-01]\n",
            " [9.99391913e-01]\n",
            " [9.19872522e-03]\n",
            " [7.61473238e-01]\n",
            " [2.10746467e-01]\n",
            " [9.77311492e-01]\n",
            " [9.91299510e-01]\n",
            " [9.96753812e-01]\n",
            " [9.06844616e-01]\n",
            " [9.96161461e-01]\n",
            " [6.79399848e-01]\n",
            " [9.44758177e-01]\n",
            " [9.93290067e-01]\n",
            " [2.51232624e-01]\n",
            " [9.92922425e-01]\n",
            " [1.26374085e-02]\n",
            " [9.47713554e-01]\n",
            " [9.79795456e-01]\n",
            " [1.06559873e-01]]\n"
          ],
          "name": "stdout"
        }
      ]
    },
    {
      "cell_type": "code",
      "metadata": {
        "id": "Ei859563jgj4",
        "colab_type": "code",
        "colab": {
          "base_uri": "https://localhost:8080/",
          "height": 153
        },
        "outputId": "61150a27-911c-440b-d243-191a304a6a93"
      },
      "source": [
        "import numpy as np\n",
        "p= np.round(p).flatten()\n",
        "print(p)"
      ],
      "execution_count": 29,
      "outputs": [
        {
          "output_type": "stream",
          "text": [
            "[1. 1. 0. 0. 1. 1. 1. 1. 1. 1. 1. 0. 1. 1. 0. 1. 0. 1. 1. 0. 1. 0. 1. 0.\n",
            " 0. 0. 1. 1. 0. 0. 1. 1. 0. 1. 1. 1. 1. 0. 1. 0. 0. 1. 0. 1. 1. 0. 1. 0.\n",
            " 1. 0. 1. 1. 1. 1. 1. 1. 0. 1. 0. 1. 1. 1. 1. 1. 0. 0. 1. 0. 1. 0. 0. 1.\n",
            " 1. 1. 1. 1. 1. 1. 0. 1. 1. 0. 1. 1. 1. 0. 0. 0. 0. 0. 0. 1. 1. 1. 1. 1.\n",
            " 0. 1. 1. 0. 1. 1. 1. 1. 0. 1. 0. 1. 0. 0. 1. 1. 0. 0. 0. 1. 0. 0. 1. 1.\n",
            " 0. 1. 1. 1. 0. 1. 1. 0. 1. 1. 0. 1. 1. 1. 1. 1. 1. 0. 1. 1. 1. 1. 1. 1.\n",
            " 1. 1. 1. 0. 1. 1. 1. 1. 0. 1. 1. 0. 0. 1. 1. 0. 1. 0. 0. 0. 1. 1. 1. 1.\n",
            " 0. 1. 1. 0. 1. 0. 1. 1. 1. 1. 1. 1. 1. 1. 0. 1. 0. 1. 1. 0.]\n"
          ],
          "name": "stdout"
        }
      ]
    },
    {
      "cell_type": "code",
      "metadata": {
        "id": "zyJdZyMDkQCt",
        "colab_type": "code",
        "colab": {
          "base_uri": "https://localhost:8080/",
          "height": 34
        },
        "outputId": "b87f4078-b88d-4609-e7a6-8da95cdae125"
      },
      "source": [
        "print(\"manually calculated\",np.mean(p==Y_test))"
      ],
      "execution_count": 30,
      "outputs": [
        {
          "output_type": "stream",
          "text": [
            "manually calculated 0.9840425531914894\n"
          ],
          "name": "stdout"
        }
      ]
    },
    {
      "cell_type": "code",
      "metadata": {
        "id": "qIo_p1G4kP7q",
        "colab_type": "code",
        "colab": {
          "base_uri": "https://localhost:8080/",
          "height": 51
        },
        "outputId": "41406486-8e80-4091-b6b0-8394e3a2af7a"
      },
      "source": [
        "print(\"Evaluate output\",model.evaluate(X_test,Y_test))"
      ],
      "execution_count": 31,
      "outputs": [
        {
          "output_type": "stream",
          "text": [
            "6/6 [==============================] - 0s 2ms/step - loss: 0.0981 - accuracy: 0.9840\n",
            "Evaluate output [0.09806977212429047, 0.9840425252914429]\n"
          ],
          "name": "stdout"
        }
      ]
    },
    {
      "cell_type": "markdown",
      "metadata": {
        "id": "PYjtuedelDsQ",
        "colab_type": "text"
      },
      "source": [
        "# Saving a model"
      ]
    },
    {
      "cell_type": "code",
      "metadata": {
        "id": "TQ5L1MELlClz",
        "colab_type": "code",
        "colab": {}
      },
      "source": [
        "#lets save model to file\n",
        "model.save('linearclassifier.h5')"
      ],
      "execution_count": 32,
      "outputs": []
    },
    {
      "cell_type": "code",
      "metadata": {
        "id": "W3sRL_f30YDu",
        "colab_type": "code",
        "colab": {
          "base_uri": "https://localhost:8080/",
          "height": 68
        },
        "outputId": "674f008c-00b6-4bcf-ee08-57393f171a57"
      },
      "source": [
        "model=tf.keras.models.load_model('linearclassifier.h5')\n",
        "print(model.layers)\n",
        "print(model.evaluate(X_test,Y_test))"
      ],
      "execution_count": 33,
      "outputs": [
        {
          "output_type": "stream",
          "text": [
            "[<tensorflow.python.keras.layers.core.Dense object at 0x7f69c7abbeb8>]\n",
            "6/6 [==============================] - 0s 1ms/step - loss: 0.0981 - accuracy: 0.9840\n",
            "[0.09806977212429047, 0.9840425252914429]\n"
          ],
          "name": "stdout"
        }
      ]
    }
  ]
}